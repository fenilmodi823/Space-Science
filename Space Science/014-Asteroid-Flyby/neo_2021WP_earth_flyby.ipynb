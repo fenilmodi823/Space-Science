{
 "cells": [
  {
   "cell_type": "code",
   "execution_count": 1,
   "metadata": {},
   "outputs": [],
   "source": [
    "# Import standard modules\n",
    "import datetime\n",
    "\n",
    "# Import installed modules\n",
    "import numpy as np\n",
    "import spiceypy"
   ]
  },
  {
   "cell_type": "code",
   "execution_count": 2,
   "metadata": {},
   "outputs": [
    {
     "name": "stdout",
     "output_type": "stream",
     "text": [
      "Total Kernels Loaded: 3\n"
     ]
    }
   ],
   "source": [
    "# Clear any previously loaded kernels\n",
    "spiceypy.kclear()\n",
    "\n",
    "kernels = [\n",
    "    '../kernels/spk/de432s.bsp',\n",
    "    '../kernels/lsk/naif0012.tls',\n",
    "    '../kernels/pck/gm_de431.tpc'\n",
    "]\n",
    "\n",
    "for kernel in kernels:\n",
    "    spiceypy.furnsh(kernel)\n",
    "\n",
    "print(\"Total Kernels Loaded:\", spiceypy.ktotal(\"ALL\"))\n",
    "# Set a datetime format\n",
    "datetime_format = \"%Y-%m-%dT%H:%M:%S\"\n",
    "\n",
    "# Create an initial date-time object that is converted to a string\n",
    "init_datetime_utc = datetime.datetime(year=2021,\n",
    "                                      month=11,\n",
    "                                      day=19,\n",
    "                                      hour=0,\n",
    "                                      minute=0,\n",
    "                                      second=0).strftime(datetime_format)\n",
    "\n",
    "# Convert to Ephemeris Time (ET) using the SPICE function utc2et\n",
    "datetime_et = spiceypy.utc2et(init_datetime_utc)"
   ]
  },
  {
   "cell_type": "code",
   "execution_count": null,
   "metadata": {},
   "outputs": [],
   "source": []
  }
 ],
 "metadata": {
  "kernelspec": {
   "display_name": "Python 3",
   "language": "python",
   "name": "python3"
  },
  "language_info": {
   "codemirror_mode": {
    "name": "ipython",
    "version": 3
   },
   "file_extension": ".py",
   "mimetype": "text/x-python",
   "name": "python",
   "nbconvert_exporter": "python",
   "pygments_lexer": "ipython3",
   "version": "3.13.2"
  }
 },
 "nbformat": 4,
 "nbformat_minor": 2
}
