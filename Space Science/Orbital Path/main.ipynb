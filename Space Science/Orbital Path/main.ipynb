{
 "cells": [
  {
   "cell_type": "code",
   "execution_count": null,
   "id": "1d3aaf36",
   "metadata": {},
   "outputs": [],
   "source": [
    "import visvis as vv\n",
    "import numpy as np\n",
    "from stl import mesh as stlmesh\n",
    "\n",
    "# Load STL file\n",
    "model_path = r\"D:\\VS Code\\Science\\Space Science\\models\\satellite_model.stl\"\n",
    "sat_mesh = stlmesh.Mesh.from_file(model_path)\n",
    "\n",
    "# Extract points and triangles\n",
    "points = sat_mesh.vectors.reshape(-1, 3)\n",
    "tri_indices = np.arange(len(points)).reshape(-1, 3)\n",
    "\n",
    "# Create figure and axes\n",
    "fig = vv.figure()\n",
    "a = vv.gca()\n",
    "a.daspect = 1, 1, 1\n",
    "\n",
    "# Create and display mesh\n",
    "model = vv.mesh(np.array(points), np.array(tri_indices))\n",
    "model.faceColor = (0.75, 0.75, 0.75)  # Silver-like color\n",
    "\n",
    "# Set camera angles\n",
    "a.camera.azimuth = 120\n",
    "a.camera.elevation = 25\n",
    "\n",
    "vv.title('Satellite Model')\n",
    "vv.xlabel('X'); vv.ylabel('Y'); vv.zlabel('Z')\n"
   ]
  }
 ],
 "metadata": {
  "kernelspec": {
   "display_name": "Python 3",
   "language": "python",
   "name": "python3"
  },
  "language_info": {
   "codemirror_mode": {
    "name": "ipython",
    "version": 3
   },
   "file_extension": ".py",
   "mimetype": "text/x-python",
   "name": "python",
   "nbconvert_exporter": "python",
   "pygments_lexer": "ipython3",
   "version": "3.13.2"
  }
 },
 "nbformat": 4,
 "nbformat_minor": 5
}
