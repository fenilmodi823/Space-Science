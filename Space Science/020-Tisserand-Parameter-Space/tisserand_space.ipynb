{
 "cells": [
  {
   "cell_type": "code",
   "execution_count": 2,
   "metadata": {},
   "outputs": [],
   "source": [
    "# Import the standard modules\n",
    "import pathlib\n",
    "\n",
    "# Import spiceypy\n",
    "import spiceypy\n",
    "\n",
    "# Load necessary SPICE kernels\n",
    "spiceypy.furnsh('kernel_meta.txt')\n",
    "\n",
    "# Import the installed modules\n",
    "import numpy as np\n",
    "\n",
    "# Import matplotlib for plotting\n",
    "from matplotlib import pyplot as plt"
   ]
  }
 ],
 "metadata": {
  "kernelspec": {
   "display_name": "Python 3",
   "language": "python",
   "name": "python3"
  },
  "language_info": {
   "codemirror_mode": {
    "name": "ipython",
    "version": 3
   },
   "file_extension": ".py",
   "mimetype": "text/x-python",
   "name": "python",
   "nbconvert_exporter": "python",
   "pygments_lexer": "ipython3",
   "version": "3.13.2"
  }
 },
 "nbformat": 4,
 "nbformat_minor": 2
}
