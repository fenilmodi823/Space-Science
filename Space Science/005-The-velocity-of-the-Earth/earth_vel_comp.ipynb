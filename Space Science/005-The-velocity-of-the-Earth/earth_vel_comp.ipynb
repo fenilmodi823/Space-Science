{
 "cells": [
  {
   "cell_type": "code",
   "execution_count": 1,
   "metadata": {},
   "outputs": [],
   "source": [
    "# Import the SPICE module\n",
    "import spiceypy\n",
    "\n",
    "# Import datetime and get the current time stamp\n",
    "import datetime\n",
    "\n",
    "# get today's date\n",
    "date_today = datetime.datetime.today()\n",
    "\n",
    "# convert the datetime to a string, replacing the time with midnight\n",
    "date_today = date_today.strftime('%Y-%m-%dT00:00:00')\n",
    "\n",
    "# Load the spice kernels for leapseconds and for the planets\n",
    "spiceypy.furnsh('../kernels/lsk/naif0012.tls')\n",
    "spiceypy.furnsh('../kernels/spk/de432s.bsp')\n",
    "\n",
    "# Compute the Ephemeris Time\n",
    "et_today_midnight = spiceypy.utc2et(date_today)\n",
    "\n",
    "# Compute the state vector of the Earth w.r.t. the Sun\n",
    "earth_state_wrt_sun, earth_sun_light_time = spiceypy.spkgeo(targ=399,\n",
    "                                                            et=et_today_midnight,\n",
    "                                                            ref='ECLIPJ2000',\n",
    "                                                            obs=10)"
   ]
  },
  {
   "cell_type": "code",
   "execution_count": 2,
   "metadata": {},
   "outputs": [
    {
     "name": "stdout",
     "output_type": "stream",
     "text": [
      "State vector of the Earth w.r.t. the Sun for 2025-03-04T00:00:00 (midnight):\n",
      "[-1.42088209e+08  4.25949353e+07 -1.87774104e+03 -9.03127962e+00\n",
      " -2.86557421e+01  7.52022464e-04]\n"
     ]
    }
   ],
   "source": [
    "# The state vector is 6 dimensional: x,y,z in km and the corresponding velocities in km/s\n",
    "print(f'State vector of the Earth w.r.t. the Sun for {date_today} (midnight):\\n'\n",
    "      + f'{earth_state_wrt_sun}')"
   ]
  },
  {
   "cell_type": "code",
   "execution_count": 3,
   "metadata": {},
   "outputs": [
    {
     "name": "stdout",
     "output_type": "stream",
     "text": [
      "Current orbital speed of the Earth around the Sun in km/s: 30.045225412749005\n"
     ]
    }
   ],
   "source": [
    "import numpy as np\n",
    "\n",
    "# Convert list to numpy array\n",
    "earth_state_wrt_sun = np.array(earth_state_wrt_sun)\n",
    "\n",
    "# Compute the distance\n",
    "earth_sun_distance = np.linalg.norm(earth_state_wrt_sun[:3])\n",
    "\n",
    "# First, we compute the actual orbital speed of the Earth around the Sun\n",
    "earth_orb_speed_wrt_sun = np.linalg.norm(earth_state_wrt_sun[3:])\n",
    "\n",
    "# It's around 30 km/s\n",
    "print(f'Current orbital speed of the Earth around the Sun in km/s: {earth_orb_speed_wrt_sun}')"
   ]
  },
  {
   "cell_type": "code",
   "execution_count": 4,
   "metadata": {},
   "outputs": [
    {
     "name": "stdout",
     "output_type": "stream",
     "text": [
      "Theoretical orbital speed of the Earth around the Sun in km/s: 29.911171986764668\n"
     ]
    }
   ],
   "source": [
    "# Now let's compute the theoretical expectation. First, we load a pck file that contains\n",
    "# miscellanoeus information, like the G*M values for different objects\n",
    "\n",
    "# First, load the kernel\n",
    "spiceypy.furnsh('../kernels/pck/gm_de431.tpc')\n",
    "_, GM_SUN = spiceypy.bodvcd(bodyid=10, item='GM', maxn=1)\n",
    "\n",
    "# Now compute the orbital speed\n",
    "v_orb_func = lambda gm, r: np.sqrt(gm/r)\n",
    "earth_orb_speed_wrt_sun_theory = v_orb_func(GM_SUN[0], earth_sun_distance)\n",
    "\n",
    "# Print the result\n",
    "print(f'Theoretical orbital speed of the Earth around the Sun in km/s: '\n",
    "      + f'{earth_orb_speed_wrt_sun_theory}')"
   ]
  },
  {
   "cell_type": "code",
   "execution_count": 5,
   "metadata": {},
   "outputs": [],
   "source": [
    "# A second check:\n",
    "# The angular difference between the autumn equinox and today's position vector of the Earth\n",
    "# (in this tutorial October) should be in degrees the number of days passed the 22th September.\n",
    "# Again please note: we use the \"today\" function to determine the Earth's state vector.\n",
    "# Now the \"autumn vector\" is simpley (1, 0, 0) in ECLIPJ2000 and we use this as a quick and simple\n",
    "# rough estimation / computation\n",
    "\n",
    "# Position vector\n",
    "earth_position_wrt_sun = earth_state_wrt_sun[:3]\n",
    "\n",
    "# Normalize it\n",
    "earth_position_wrt_sun_normed = earth_position_wrt_sun / earth_sun_distance\n",
    "\n",
    "# Define the \"autumn vector\" of the Earth\n",
    "earth_position_wrt_sun_normed_autumn = np.array([1.0, 0.0, 0.0])"
   ]
  },
  {
   "cell_type": "code",
   "execution_count": 6,
   "metadata": {},
   "outputs": [
    {
     "name": "stdout",
     "output_type": "stream",
     "text": [
      "Angular distance between autumn and today's position in degrees 2025-03-04T00:00:00: 163.31241985094513\n"
     ]
    }
   ],
   "source": [
    "ang_dist_deg = np.degrees(np.arccos(np.dot(earth_position_wrt_sun_normed,\n",
    "                                           earth_position_wrt_sun_normed_autumn)))\n",
    "print(f\"Angular distance between autumn and today's position in degrees {date_today}: \"\n",
    "      + f\"{ang_dist_deg}\")"
   ]
  }
 ],
 "metadata": {
  "kernelspec": {
   "display_name": "Python 3",
   "language": "python",
   "name": "python3"
  },
  "language_info": {
   "codemirror_mode": {
    "name": "ipython",
    "version": 3
   },
   "file_extension": ".py",
   "mimetype": "text/x-python",
   "name": "python",
   "nbconvert_exporter": "python",
   "pygments_lexer": "ipython3",
   "version": "3.13.2"
  }
 },
 "nbformat": 4,
 "nbformat_minor": 2
}
