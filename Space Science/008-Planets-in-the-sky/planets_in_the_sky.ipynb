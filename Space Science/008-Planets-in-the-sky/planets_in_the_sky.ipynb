{
 "cells": [
  {
   "cell_type": "code",
   "execution_count": 2,
   "metadata": {},
   "outputs": [
    {
     "name": "stdout",
     "output_type": "stream",
     "text": [
      "Meta Kernel Loaded: 1\n",
      "Total Kernels Loaded: 4\n"
     ]
    }
   ],
   "source": [
    "# Import modules\n",
    "import datetime\n",
    "import spiceypy\n",
    "import numpy as np\n",
    "import pandas as pd\n",
    "\n",
    "# Clear any previously loaded kernels\n",
    "spiceypy.kclear()\n",
    "\n",
    "# Load kernels via meta file\n",
    "spiceypy.furnsh('kernel_meta.txt')\n",
    "print(\"Meta Kernel Loaded:\", spiceypy.ktotal(\"ALL\"))\n",
    "\n",
    "# Manually load kernels (in correct order)\n",
    "spiceypy.furnsh('../kernels/lsk/naif0012.tls')  # Leap Seconds\n",
    "spiceypy.furnsh('../kernels/spk/de432s.bsp')    # Ephemeris Data\n",
    "spiceypy.furnsh('../kernels/pck/pck00010.tpc')  # Planet Constants\n",
    "\n",
    "# Verify total loaded kernels\n",
    "print(\"Total Kernels Loaded:\", spiceypy.ktotal(\"ALL\"))\n",
    "\n",
    "# Create an initial and ending time date-time object that is converted to a\n",
    "# string\n",
    "init_time_utc_str = datetime.datetime(year=2021, month=10, day=1).strftime('%Y-%m-%dT%H:%M:%S')\n",
    "end_time_utc_str = datetime.datetime(year=2022, month=6, day=1).strftime('%Y-%m-%dT%H:%M:%S')\n",
    "\n",
    "# Convert to Ephemeris Time (ET) using the SPICE function utc2et\n",
    "init_time_et = spiceypy.utc2et(init_time_utc_str)\n",
    "end_time_et = spiceypy.utc2et(end_time_utc_str)\n",
    "\n",
    "# Set the number of seconds per hours. This value is used to compute the phase\n",
    "# angles in 1 hour steps (the ET is given in seconds)\n",
    "delta_hour_in_seconds = 3600.0\n",
    "time_interval_et = np.arange(init_time_et, end_time_et, delta_hour_in_seconds)"
   ]
  },
  {
   "cell_type": "code",
   "execution_count": 3,
   "metadata": {},
   "outputs": [],
   "source": [
    "# All our computed parameters, positions etc. shall be stored in a pandas\n",
    "# dataframe. First, we create an empty one\n",
    "inner_solsys_df = pd.DataFrame()\n",
    "\n",
    "# Set the column ET that stores all ETs\n",
    "inner_solsys_df.loc[:, 'ET'] = time_interval_et\n",
    "\n",
    "# The column UTC transforms all ETs back to a UTC format. The function\n",
    "# spicepy.et2datetime is NOT an official part of SPICE (there you can find\n",
    "# et2utc).\n",
    "# However this function returns immediately a date-time object\n",
    "inner_solsys_df.loc[:, 'UTC'] = \\\n",
    "    inner_solsys_df['ET'].apply(lambda x: spiceypy.et2datetime(et=x))"
   ]
  }
 ],
 "metadata": {
  "kernelspec": {
   "display_name": "Python 3",
   "language": "python",
   "name": "python3"
  },
  "language_info": {
   "codemirror_mode": {
    "name": "ipython",
    "version": 3
   },
   "file_extension": ".py",
   "mimetype": "text/x-python",
   "name": "python",
   "nbconvert_exporter": "python",
   "pygments_lexer": "ipython3",
   "version": "3.13.2"
  }
 },
 "nbformat": 4,
 "nbformat_minor": 2
}
