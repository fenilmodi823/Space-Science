{
 "cells": [
  {
   "cell_type": "code",
   "execution_count": 1,
   "metadata": {},
   "outputs": [],
   "source": [
    "# Import the standard modules\n",
    "import sqlite3\n",
    "\n",
    "# Import installed modules\n",
    "from matplotlib import pyplot as plt\n",
    "import pandas as pd\n",
    "import numpy as np"
   ]
  },
  {
   "cell_type": "code",
   "execution_count": 3,
   "metadata": {},
   "outputs": [],
   "source": [
    "# Connect to the comet database. This database has been created in tutorial\n",
    "# part 7, however, due to its small size the database is uploaded on GitHub\n",
    "con = sqlite3.connect('../databases/comets/mpc_comets.db')\n",
    "\n",
    "# Create a pandas dataframe that contains the perihelion and the absolute\n",
    "# magnitude\n",
    "comets_df = pd.read_sql('SELECT PERIHELION_AU, ABSOLUTE_MAGNITUDE ' \\\n",
    "                        'FROM comets_main WHERE ECCENTRICITY < 1', \\\n",
    "                        con)"
   ]
  }
 ],
 "metadata": {
  "kernelspec": {
   "display_name": "Python 3",
   "language": "python",
   "name": "python3"
  },
  "language_info": {
   "codemirror_mode": {
    "name": "ipython",
    "version": 3
   },
   "file_extension": ".py",
   "mimetype": "text/x-python",
   "name": "python",
   "nbconvert_exporter": "python",
   "pygments_lexer": "ipython3",
   "version": "3.13.2"
  }
 },
 "nbformat": 4,
 "nbformat_minor": 2
}
