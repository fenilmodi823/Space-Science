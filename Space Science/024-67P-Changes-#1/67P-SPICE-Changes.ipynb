{
 "cells": [
  {
   "cell_type": "code",
   "execution_count": null,
   "id": "da424051",
   "metadata": {},
   "outputs": [],
   "source": [
    "# Import the modules\n",
    "import sqlite3\n",
    "\n",
    "import spiceypy\n",
    "import numpy as np\n",
    "import pandas as pd\n",
    "from matplotlib import pyplot as plt"
   ]
  },
  {
   "cell_type": "code",
   "execution_count": null,
   "id": "f8d711c6",
   "metadata": {},
   "outputs": [],
   "source": [
    "# Establish a connection to the comet database\n",
    "con = sqlite3.connect('../databases/comets/mpc_comets.db')\n",
    "\n",
    "# Extract information about the comet 67P\n",
    "comet_67p_from_db = pd.read_sql('SELECT NAME, PERIHELION_AU, ' \\\n",
    "                                'SEMI_MAJOR_AXIS_AU, ' \\\n",
    "                                'APHELION_AU, ECCENTRICITY, ' \\\n",
    "                                'ARG_OF_PERIH_DEG, LONG_OF_ASC_NODE_DEG ' \\\n",
    "                                'FROM comets_main WHERE NAME LIKE \"67P%\"', con)"
   ]
  },
  {
   "cell_type": "code",
   "execution_count": null,
   "id": "618e52fe",
   "metadata": {},
   "outputs": [],
   "source": [
    "# Print the orbital elements of 67P\n",
    "print(f'{comet_67p_from_db.iloc[0]}')"
   ]
  },
  {
   "cell_type": "code",
   "execution_count": null,
   "id": "4af2e539",
   "metadata": {},
   "outputs": [],
   "source": [
    "# Clear any previously loaded kernels\n",
    "spiceypy.kclear()\n",
    "\n",
    "# Load the SPICE kernel meta file\n",
    "kernels = [\n",
    "    '../kernels/spk/de432s.bsp',\n",
    "    '../kernels/spk/67P_CHURY_GERAS_2004_2016.BSP',\n",
    "    '../kernels/lsk/naif0012.tls',\n",
    "    '../kernels/pck/gm_de431.tpc'\n",
    "]\n",
    "\n",
    "# Get the G*M value for the Sun\n",
    "_, GM_SUN_PRE = spiceypy.bodvcd(bodyid=10, item='GM', maxn=1)\n",
    "GM_SUN = GM_SUN_PRE[0]"
   ]
  }
 ],
 "metadata": {
  "kernelspec": {
   "display_name": "Python 3",
   "language": "python",
   "name": "python3"
  },
  "language_info": {
   "codemirror_mode": {
    "name": "ipython",
    "version": 3
   },
   "file_extension": ".py",
   "mimetype": "text/x-python",
   "name": "python",
   "nbconvert_exporter": "python",
   "pygments_lexer": "ipython3",
   "version": "3.13.2"
  }
 },
 "nbformat": 4,
 "nbformat_minor": 5
}
