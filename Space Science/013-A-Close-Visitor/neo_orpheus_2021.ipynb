{
 "cells": [
  {
   "cell_type": "code",
   "execution_count": 9,
   "metadata": {},
   "outputs": [],
   "source": [
    "# Import the modules\n",
    "import datetime\n",
    "import pathlib\n",
    "import urllib\n",
    "import os\n",
    "\n",
    "import numpy as np\n",
    "import spiceypy"
   ]
  },
  {
   "cell_type": "code",
   "execution_count": 12,
   "metadata": {},
   "outputs": [
    {
     "name": "stdout",
     "output_type": "stream",
     "text": [
      "Total Kernels Loaded: 3\n"
     ]
    }
   ],
   "source": [
    "# Clear any previously loaded kernels\n",
    "spiceypy.kclear()\n",
    "\n",
    "kernels = [\n",
    "    '../kernels/spk/de432s.bsp',\n",
    "    '../kernels/lsk/naif0012.tls',\n",
    "    '../kernels/pck/gm_de431.tpc'\n",
    "]\n",
    "\n",
    "for kernel in kernels:\n",
    "    spiceypy.furnsh(kernel)\n",
    "\n",
    "print(\"Total Kernels Loaded:\", spiceypy.ktotal(\"ALL\"))\n",
    "\n",
    "# Create an initial date-time object that is converted to a string\n",
    "datetime_utc = datetime.datetime(year=2025, month=3, day=19).strftime('%Y-%m-%dT%H:%M:%S')\n",
    "\n",
    "# Convert to Ephemeris Time (ET) using the SPICE function utc2et\n",
    "datetime_et = spiceypy.utc2et(datetime_utc)"
   ]
  },
  {
   "cell_type": "code",
   "execution_count": 11,
   "metadata": {},
   "outputs": [],
   "source": [
    "# Get the G*M value for the Sun\n",
    "_, gm_sun_pre = spiceypy.bodvcd(bodyid=10, item='GM', maxn=1)\n",
    "\n",
    "GM_SUN = gm_sun_pre[0]"
   ]
  }
 ],
 "metadata": {
  "kernelspec": {
   "display_name": "Python 3",
   "language": "python",
   "name": "python3"
  },
  "language_info": {
   "codemirror_mode": {
    "name": "ipython",
    "version": 3
   },
   "file_extension": ".py",
   "mimetype": "text/x-python",
   "name": "python",
   "nbconvert_exporter": "python",
   "pygments_lexer": "ipython3",
   "version": "3.13.2"
  }
 },
 "nbformat": 4,
 "nbformat_minor": 2
}
