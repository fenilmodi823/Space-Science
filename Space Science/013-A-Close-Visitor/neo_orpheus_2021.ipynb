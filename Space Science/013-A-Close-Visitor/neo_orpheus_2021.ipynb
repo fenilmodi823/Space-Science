{
 "cells": [
  {
   "cell_type": "code",
   "execution_count": 28,
   "metadata": {},
   "outputs": [],
   "source": [
    "# Import the modules\n",
    "import datetime\n",
    "import pathlib\n",
    "import urllib\n",
    "import os\n",
    "\n",
    "import numpy as np\n",
    "import spiceypy"
   ]
  },
  {
   "cell_type": "code",
   "execution_count": 29,
   "metadata": {},
   "outputs": [
    {
     "name": "stdout",
     "output_type": "stream",
     "text": [
      "Total Kernels Loaded: 3\n"
     ]
    }
   ],
   "source": [
    "# Clear any previously loaded kernels\n",
    "spiceypy.kclear()\n",
    "\n",
    "kernels = [\n",
    "    '../kernels/spk/de432s.bsp',\n",
    "    '../kernels/lsk/naif0012.tls',\n",
    "    '../kernels/pck/gm_de431.tpc'\n",
    "]\n",
    "\n",
    "for kernel in kernels:\n",
    "    spiceypy.furnsh(kernel)\n",
    "\n",
    "print(\"Total Kernels Loaded:\", spiceypy.ktotal(\"ALL\"))\n",
    "\n",
    "# Create an initial date-time object that is converted to a string\n",
    "datetime_utc = datetime.datetime(year=2025, month=3, day=19).strftime('%Y-%m-%dT%H:%M:%S')\n",
    "\n",
    "# Convert to Ephemeris Time (ET) using the SPICE function utc2et\n",
    "datetime_et = spiceypy.utc2et(datetime_utc)"
   ]
  },
  {
   "cell_type": "code",
   "execution_count": 30,
   "metadata": {},
   "outputs": [],
   "source": [
    "# Get the G*M value for the Sun\n",
    "_, gm_sun_pre = spiceypy.bodvcd(bodyid=10, item='GM', maxn=1)\n",
    "\n",
    "GM_SUN = gm_sun_pre[0]"
   ]
  },
  {
   "cell_type": "code",
   "execution_count": 31,
   "metadata": {},
   "outputs": [
    {
     "name": "stdout",
     "output_type": "stream",
     "text": [
      "SOI of the Earth in LD: 2.4054224328225597\n"
     ]
    }
   ],
   "source": [
    "# On spaceweather.com we can see that an asteroid has a close Earth fly-by:\n",
    "# Orpheus on 2021-November-21.\n",
    "#\n",
    "# Will the encounter alter the orbit of the asteroid? Let's have a first look\n",
    "# on the so-called sphere of influence (SOI) of our planet.\n",
    "# A simple model assumes that the SOI is a sphere. The semi major axis is set\n",
    "# to 1 AU:\n",
    "\n",
    "# 1 AU in km\n",
    "ONE_AU = spiceypy.convrt(x=1, inunit='AU', outunit='km')\n",
    "\n",
    "# Set the G*M parameter of our planet\n",
    "_, gm_earth_pre = spiceypy.bodvcd(bodyid=399, item='GM', maxn=1)\n",
    "GM_EARTH = gm_earth_pre[0]\n",
    "\n",
    "# Compute the SOI radius of the Earth\n",
    "SOI_EARTH_R = ONE_AU * (GM_EARTH/GM_SUN) ** (2.0/5.0)\n",
    "\n",
    "# Set one Lunar Distance (LD) in km (value from spaceweather.com)\n",
    "ONE_LD = 384401.0\n",
    "\n",
    "print(f'SOI of the Earth in LD: {SOI_EARTH_R/ONE_LD}')"
   ]
  },
  {
   "cell_type": "code",
   "execution_count": 32,
   "metadata": {},
   "outputs": [],
   "source": [
    "# Let's obtain the orbit elements data of 3361 Orpheus from \n",
    "# https://ssd.jpl.nasa.gov/tools/sbdb_lookup.html#/?sstr=3361&view=OPD\n",
    "\n",
    "# Before we compute a state vector of the asteroid and the current distance\n",
    "# to our home planet we need to define a function to round the data. A common\n",
    "# convention for scientific work is to round the data to one significant\n",
    "# digit. We create a lambda function that rounds the values based on the\n",
    "# provided measurement error\n",
    "round_sig = lambda value, err: np.round(value, -1*(int(np.floor(np.log10(err)))))"
   ]
  },
  {
   "cell_type": "code",
   "execution_count": 33,
   "metadata": {},
   "outputs": [],
   "source": [
    "# Set now the perihelion in km\n",
    "neo_orpheus_perihelion_km = spiceypy.convrt(round_sig(0.8193931144261904, \\\n",
    "                                                      4.396E-8), \\\n",
    "                                            inunit='AU', outunit='km')\n",
    "\n",
    "# Set the eccentricity\n",
    "neo_orpheus_ecc = round_sig(0.3231489803944947, 3.6326E-8)\n",
    "\n",
    "# Set the inclination, longitude of ascending node and argument of periapsis\n",
    "# in radians\n",
    "neo_orpheus_inc_rad = np.radians(round_sig(2.661237238614012, 3.5526E-6))\n",
    "neo_orpheus_lnode_rad = np.radians(round_sig(188.6885422918818, 3.8154E-5))\n",
    "neo_orpheus_argp_rad = np.radians(round_sig(302.3633807683478, 3.7866E-5))\n",
    "\n",
    "# Set the mean anomaly and corresponding epoch in Julian Date (JD)\n",
    "neo_orpheus_m0_at_t0_rad = np.radians(round_sig(4.38004009432731, 5.0726E-6))\n",
    "neo_orpheus_t0 = spiceypy.utc2et('2459600.5 JD')"
   ]
  },
  {
   "cell_type": "code",
   "execution_count": 34,
   "metadata": {},
   "outputs": [
    {
     "name": "stdout",
     "output_type": "stream",
     "text": [
      "Current state vector of Orpheus in km and km/s (2025-03-19T00:00:00)):\n",
      "[ 6.92563822e+07 -2.19551836e+08  1.05741153e+07  2.03104844e+01\n",
      "  2.53073468e+00  2.63300837e-02]\n"
     ]
    }
   ],
   "source": [
    "# Set the orbital elements array\n",
    "neo_orpheus_orbital_elements = [neo_orpheus_perihelion_km, \\\n",
    "                                neo_orpheus_ecc, \\\n",
    "                                neo_orpheus_inc_rad, \\\n",
    "                                neo_orpheus_lnode_rad, \\\n",
    "                                neo_orpheus_argp_rad, \\\n",
    "                                neo_orpheus_m0_at_t0_rad, \\\n",
    "                                neo_orpheus_t0, \\\n",
    "                                GM_SUN]\n",
    "\n",
    "# Compute the state vector\n",
    "neo_orpheus_state_vector = spiceypy.conics(neo_orpheus_orbital_elements, datetime_et)\n",
    "\n",
    "print(f'Current state vector of Orpheus in km and km/s ({datetime_utc})):\\n' \\\n",
    "      f'{neo_orpheus_state_vector}')"
   ]
  },
  {
   "cell_type": "code",
   "execution_count": 35,
   "metadata": {},
   "outputs": [
    {
     "name": "stdout",
     "output_type": "stream",
     "text": [
      "Current distance between the Earth and Orpheus (2025-03-19T00:00:00):\n",
      "813.8201444218291 LD\n"
     ]
    }
   ],
   "source": [
    "# Now compute the state vector of the Earth:\n",
    "earth_state_vector, _ = spiceypy.spkgeo(targ=399, \\\n",
    "                                        et=datetime_et, \\\n",
    "                                        ref='ECLIPJ2000',\n",
    "                                        obs=10)\n",
    "\n",
    "# Compute the current distance of the Earth and the asteroids in LD\n",
    "earth_orpheus_dist_km = spiceypy.vnorm(earth_state_vector[:3] \\\n",
    "                                      - neo_orpheus_state_vector[:3])\n",
    "print(f'Current distance between the Earth and Orpheus ({datetime_utc}):\\n' \\\n",
    "      f'{earth_orpheus_dist_km / ONE_LD} LD')"
   ]
  }
 ],
 "metadata": {
  "kernelspec": {
   "display_name": "Python 3",
   "language": "python",
   "name": "python3"
  },
  "language_info": {
   "codemirror_mode": {
    "name": "ipython",
    "version": 3
   },
   "file_extension": ".py",
   "mimetype": "text/x-python",
   "name": "python",
   "nbconvert_exporter": "python",
   "pygments_lexer": "ipython3",
   "version": "3.13.2"
  }
 },
 "nbformat": 4,
 "nbformat_minor": 2
}
