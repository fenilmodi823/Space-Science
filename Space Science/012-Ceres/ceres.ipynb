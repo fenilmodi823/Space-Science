{
 "cells": [
  {
   "cell_type": "code",
   "execution_count": 4,
   "metadata": {},
   "outputs": [],
   "source": [
    "import datetime\n",
    "\n",
    "import numpy as np\n",
    "import spiceypy"
   ]
  },
  {
   "cell_type": "code",
   "execution_count": 5,
   "metadata": {},
   "outputs": [
    {
     "name": "stdout",
     "output_type": "stream",
     "text": [
      "Meta Kernel Loaded: 1\n",
      "Total Kernels Loaded: 4\n"
     ]
    }
   ],
   "source": [
    "# Clear any previously loaded kernels\n",
    "spiceypy.kclear()\n",
    "\n",
    "# Load kernels via meta file\n",
    "spiceypy.furnsh('kernel_meta.txt')\n",
    "print(\"Meta Kernel Loaded:\", spiceypy.ktotal(\"ALL\"))\n",
    "\n",
    "# Manually load kernels (in correct order)\n",
    "spiceypy.furnsh('../kernels/lsk/naif0012.tls')  # Leap Seconds\n",
    "spiceypy.furnsh('../kernels/spk/de432s.bsp')    # Ephemeris Data\n",
    "spiceypy.furnsh('../kernels/pck/pck00010.tpc')  # Planet Constants\n",
    "\n",
    "# Verify total loaded kernels\n",
    "print(\"Total Kernels Loaded:\", spiceypy.ktotal(\"ALL\"))\n",
    "\n",
    "datetime_utc = datetime.datetime.now().strftime(\"%Y-%m-%dT%H:%M:%S\")\n",
    "\n",
    "datetime_et = spiceypy.utc2et(datetime_utc)"
   ]
  },
  {
   "cell_type": "code",
   "execution_count": 7,
   "metadata": {},
   "outputs": [
    {
     "ename": "SpiceUNKNOWNFRAME",
     "evalue": "\n================================================================================\n\nToolkit version: CSPICE_N0067\n\nSPICE(UNKNOWNFRAME) --\n\nThe frame ECLIPJ2000_DE405 was not recognized as a known reference frame.\n\nsxform_c --> SXFORM\n\n================================================================================",
     "output_type": "error",
     "traceback": [
      "\u001b[31m---------------------------------------------------------------------------\u001b[39m",
      "\u001b[31mSpiceUNKNOWNFRAME\u001b[39m                         Traceback (most recent call last)",
      "\u001b[32m~\\AppData\\Local\\Temp\\ipykernel_28148\\2602625848.py\u001b[39m in \u001b[36m?\u001b[39m\u001b[34m()\u001b[39m\n\u001b[32m----> \u001b[39m\u001b[32m1\u001b[39m mat = spiceypy.sxform(instring=\"ECLIPJ2000_DE405\",\n\u001b[32m      2\u001b[39m                       tostring=\u001b[33m\"ECLIPJ2000\"\u001b[39m,\n\u001b[32m      3\u001b[39m                       et=datetime_et)\n\u001b[32m      4\u001b[39m \n",
      "\u001b[32mc:\\Users\\fenil\\AppData\\Local\\Programs\\Python\\Python313\\Lib\\site-packages\\spiceypy\\spiceypy.py\u001b[39m in \u001b[36m?\u001b[39m\u001b[34m(*args, **kwargs)\u001b[39m\n\u001b[32m    138\u001b[39m             res = f(*args, **kwargs)\n\u001b[32m    139\u001b[39m             check_for_spice_error(f)\n\u001b[32m    140\u001b[39m             \u001b[38;5;28;01mreturn\u001b[39;00m res\n\u001b[32m    141\u001b[39m         \u001b[38;5;28;01mexcept\u001b[39;00m BaseException:\n\u001b[32m--> \u001b[39m\u001b[32m142\u001b[39m             \u001b[38;5;28;01mraise\u001b[39;00m\n",
      "\u001b[32mc:\\Users\\fenil\\AppData\\Local\\Programs\\Python\\Python313\\Lib\\site-packages\\spiceypy\\spiceypy.py\u001b[39m in \u001b[36m?\u001b[39m\u001b[34m(f)\u001b[39m\n\u001b[32m    118\u001b[39m         explain = getmsg(\u001b[33m\"EXPLAIN\"\u001b[39m, \u001b[32m100\u001b[39m).strip()\n\u001b[32m    119\u001b[39m         long = getmsg(\u001b[33m\"LONG\"\u001b[39m, \u001b[32m1841\u001b[39m).strip()\n\u001b[32m    120\u001b[39m         traceback = qcktrc(\u001b[32m200\u001b[39m)\n\u001b[32m    121\u001b[39m         reset()\n\u001b[32m--> \u001b[39m\u001b[32m122\u001b[39m         raise dynamically_instantiate_spiceyerror(\n\u001b[32m    123\u001b[39m             short=short, explain=explain, long=long, traceback=traceback\n\u001b[32m    124\u001b[39m         )\n",
      "\u001b[31mSpiceUNKNOWNFRAME\u001b[39m: \n================================================================================\n\nToolkit version: CSPICE_N0067\n\nSPICE(UNKNOWNFRAME) --\n\nThe frame ECLIPJ2000_DE405 was not recognized as a known reference frame.\n\nsxform_c --> SXFORM\n\n================================================================================"
     ]
    }
   ],
   "source": [
    "mat = spiceypy.sxform(instring=\"ECLIPJ2000_DE405\",\n",
    "                      tostring=\"ECLIPJ2000\",\n",
    "                      et=datetime_et)\n",
    "\n",
    "for mat_row in mat:\n",
    "    print(np.round(mat_row, 2))"
   ]
  }
 ],
 "metadata": {
  "kernelspec": {
   "display_name": "Python 3",
   "language": "python",
   "name": "python3"
  },
  "language_info": {
   "codemirror_mode": {
    "name": "ipython",
    "version": 3
   },
   "file_extension": ".py",
   "mimetype": "text/x-python",
   "name": "python",
   "nbconvert_exporter": "python",
   "pygments_lexer": "ipython3",
   "version": "3.13.2"
  }
 },
 "nbformat": 4,
 "nbformat_minor": 2
}
