{
 "cells": [
  {
   "cell_type": "code",
   "execution_count": 8,
   "metadata": {},
   "outputs": [],
   "source": [
    "import datetime\n",
    "\n",
    "import numpy as np\n",
    "import spiceypy"
   ]
  },
  {
   "cell_type": "code",
   "execution_count": 11,
   "metadata": {},
   "outputs": [
    {
     "name": "stdout",
     "output_type": "stream",
     "text": [
      "Total Kernels Loaded: 9\n"
     ]
    }
   ],
   "source": [
    "kernels = [\n",
    "    '../kernels/spk/de432s.bsp',\n",
    "    '../kernels/spk/codes_300ast_20100725.bsp',\n",
    "    '../kernels/misc/codes_300ast_20100725.tf',\n",
    "    '../kernels/lsk/naif0012.tls',\n",
    "    '../kernels/pck/gm_de431.tpc'\n",
    "]\n",
    "\n",
    "for kernel in kernels:\n",
    "    spiceypy.furnsh(kernel)\n",
    "\n",
    "print(\"Total Kernels Loaded:\", spiceypy.ktotal(\"ALL\"))\n",
    "\n",
    "\n",
    "datetime_utc = datetime.datetime.now().strftime(\"%Y-%m-%dT%H:%M:%S\")\n",
    "\n",
    "datetime_et = spiceypy.utc2et(datetime_utc)"
   ]
  },
  {
   "cell_type": "code",
   "execution_count": 12,
   "metadata": {},
   "outputs": [
    {
     "name": "stdout",
     "output_type": "stream",
     "text": [
      "[1. 0. 0. 0. 0. 0.]\n",
      "[0. 1. 0. 0. 0. 0.]\n",
      "[ 0. -0.  1.  0.  0.  0.]\n",
      "[0. 0. 0. 1. 0. 0.]\n",
      "[0. 0. 0. 0. 1. 0.]\n",
      "[ 0.  0.  0.  0. -0.  1.]\n"
     ]
    }
   ],
   "source": [
    "mat = spiceypy.sxform(instring=\"ECLIPJ2000_DE405\",\n",
    "                      tostring=\"ECLIPJ2000\",\n",
    "                      et=datetime_et)\n",
    "\n",
    "for mat_row in mat:\n",
    "    print(np.round(mat_row, 2))"
   ]
  }
 ],
 "metadata": {
  "kernelspec": {
   "display_name": "Python 3",
   "language": "python",
   "name": "python3"
  },
  "language_info": {
   "codemirror_mode": {
    "name": "ipython",
    "version": 3
   },
   "file_extension": ".py",
   "mimetype": "text/x-python",
   "name": "python",
   "nbconvert_exporter": "python",
   "pygments_lexer": "ipython3",
   "version": "3.13.2"
  }
 },
 "nbformat": 4,
 "nbformat_minor": 2
}
