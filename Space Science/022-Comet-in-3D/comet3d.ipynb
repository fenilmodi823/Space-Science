{
 "cells": [
  {
   "cell_type": "code",
   "execution_count": 2,
   "metadata": {},
   "outputs": [],
   "source": [
    "# Install default libraries\n",
    "import pathlib\n",
    "import sys\n",
    "\n",
    "# Import installed modules\n",
    "import pandas as pd\n",
    "import numpy as  np\n",
    "import imageio\n",
    "from tqdm import tqdm\n",
    "\n",
    "# Import the Python script from the auxiliary folder\n",
    "sys.path.insert(1, \"../auxiliary\")\n",
    "import data_fetch # type: ignore"
   ]
  }
 ],
 "metadata": {
  "kernelspec": {
   "display_name": "Python 3",
   "language": "python",
   "name": "python3"
  },
  "language_info": {
   "codemirror_mode": {
    "name": "ipython",
    "version": 3
   },
   "file_extension": ".py",
   "mimetype": "text/x-python",
   "name": "python",
   "nbconvert_exporter": "python",
   "pygments_lexer": "ipython3",
   "version": "3.13.2"
  }
 },
 "nbformat": 4,
 "nbformat_minor": 2
}
