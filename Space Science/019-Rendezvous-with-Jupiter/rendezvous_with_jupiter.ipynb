{
 "cells": [
  {
   "cell_type": "code",
   "execution_count": 1,
   "metadata": {},
   "outputs": [],
   "source": [
    "# Import the standard modules\n",
    "import sqlite3\n",
    "import spiceypy\n",
    "\n",
    "# Import the installed modules\n",
    "import pandas as pd\n",
    "import numpy as np\n",
    "\n",
    "# Import matplotlib for plotting\n",
    "from matplotlib import pyplot as plt\n",
    "\n",
    "# Import scipy for the Kernel Density Estimator functionality\n",
    "from scipy import stats"
   ]
  },
  {
   "cell_type": "code",
   "execution_count": 2,
   "metadata": {},
   "outputs": [],
   "source": [
    "# Connect to the comet database. This database has been created in tutorial\n",
    "# part 7, however, due to its small size the database is uploaded on GitHub\n",
    "con = sqlite3.connect('../databases/comets/mpc_comets.db')\n",
    "\n",
    "# Set a cursor\n",
    "cur = con.cursor()\n",
    "\n",
    "# Create a pandas dataframe that contains the name of the comet (needed later),\n",
    "# the semi-major axis, inclination and eccentricity\n",
    "# for P type ...\n",
    "p_type_df = pd.read_sql('SELECT NAME, SEMI_MAJOR_AXIS_AU, INCLINATION_DEG, ' \\\n",
    "                        'ECCENTRICITY FROM comets_main WHERE ORBIT_TYPE=\"P\"', \\\n",
    "                        con)\n",
    "\n",
    "# ... and C type comets. For this type: set the eccentricity smaller 1 (bound\n",
    "# orbits)\n",
    "c_type_df = pd.read_sql('SELECT NAME, SEMI_MAJOR_AXIS_AU, INCLINATION_DEG, ' \\\n",
    "                        'ECCENTRICITY FROM comets_main WHERE ORBIT_TYPE=\"C\" ' \\\n",
    "                        'AND ECCENTRICITY<1', con)"
   ]
  },
  {
   "cell_type": "code",
   "execution_count": 3,
   "metadata": {},
   "outputs": [
    {
     "name": "stdout",
     "output_type": "stream",
     "text": [
      "Total Kernels Loaded: 3\n"
     ]
    }
   ],
   "source": [
    "# The Tisserand parameter will help us to distinguish between Jupiter Family\n",
    "# Comets (JFCs) and Non-JFCss more easily. For this parameter (next block) we\n",
    "# need the semi-major axis of Jupiter\n",
    "\n",
    "# Clear any previously loaded kernels\n",
    "spiceypy.kclear()\n",
    "\n",
    "# Load the SPICE kernel meta file\n",
    "kernels = [\n",
    "    '../kernels/pck/gm_de431.tpc',\n",
    "    '../kernels/spk/de432s.bsp',\n",
    "    '../kernels/lsk/naif0012.tls'\n",
    "]\n",
    "\n",
    "for kernel in kernels:\n",
    "    spiceypy.furnsh(kernel)\n",
    "\n",
    "print(\"Total Kernels Loaded:\", spiceypy.ktotal(\"ALL\"))\n",
    "\n"
   ]
  }
 ],
 "metadata": {
  "kernelspec": {
   "display_name": "Python 3",
   "language": "python",
   "name": "python3"
  },
  "language_info": {
   "codemirror_mode": {
    "name": "ipython",
    "version": 3
   },
   "file_extension": ".py",
   "mimetype": "text/x-python",
   "name": "python",
   "nbconvert_exporter": "python",
   "pygments_lexer": "ipython3",
   "version": "3.13.2"
  }
 },
 "nbformat": 4,
 "nbformat_minor": 2
}
