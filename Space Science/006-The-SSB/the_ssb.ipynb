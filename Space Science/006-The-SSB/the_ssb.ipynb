{
 "cells": [
  {
   "cell_type": "code",
   "execution_count": 1,
   "metadata": {},
   "outputs": [],
   "source": [
    "# Import modules\n",
    "import datetime\n",
    "import spiceypy\n",
    "import numpy as np\n",
    "\n",
    "# Load the SPICE kernels via a meta file\n",
    "spiceypy.furnsh('kernel_meta.txt')"
   ]
  },
  {
   "cell_type": "code",
   "execution_count": 2,
   "metadata": {},
   "outputs": [
    {
     "name": "stdout",
     "output_type": "stream",
     "text": [
      "Init time in UTC: 2000-01-01T00:00:00\n",
      "End time in UTC: 2027-05-19T00:00:00\n",
      "\n"
     ]
    },
    {
     "ename": "SpiceNOLEAPSECONDS",
     "evalue": "\n================================================================================\n\nToolkit version: CSPICE_N0067\n\nSPICE(NOLEAPSECONDS) --\n\nThe variable that points to the leapseconds (DELTET/DELTA_AT) could not be located in the kernel pool.  It is likely that the leapseconds kernel has not been loaded.\n\nutc2et_c --> UTC2ET --> TTRANS\n\n================================================================================",
     "output_type": "error",
     "traceback": [
      "\u001b[31m---------------------------------------------------------------------------\u001b[39m",
      "\u001b[31mSpiceNOLEAPSECONDS\u001b[39m                        Traceback (most recent call last)",
      "\u001b[32m~\\AppData\\Local\\Temp\\ipykernel_9584\\622599962.py\u001b[39m in \u001b[36m?\u001b[39m\u001b[34m()\u001b[39m\n\u001b[32m     18\u001b[39m print(\u001b[33m'Init time in UTC: %s'\u001b[39m % init_time_utc_str)\n\u001b[32m     19\u001b[39m print(\u001b[33m'End time in UTC: %s\\n'\u001b[39m % end_time_utc_str)\n\u001b[32m     20\u001b[39m \n\u001b[32m     21\u001b[39m \u001b[38;5;66;03m# Convert to Ephemeris Time (ET) using the SPICE function utc2et.\u001b[39;00m\n\u001b[32m---> \u001b[39m\u001b[32m22\u001b[39m init_time_et = spiceypy.utc2et(init_time_utc_str)\n\u001b[32m     23\u001b[39m end_time_et = spiceypy.utc2et(end_time_utc_str)\n",
      "\u001b[32mc:\\Users\\fenil\\AppData\\Local\\Programs\\Python\\Python313\\Lib\\site-packages\\spiceypy\\spiceypy.py\u001b[39m in \u001b[36m?\u001b[39m\u001b[34m(*args, **kwargs)\u001b[39m\n\u001b[32m    138\u001b[39m             res = f(*args, **kwargs)\n\u001b[32m    139\u001b[39m             check_for_spice_error(f)\n\u001b[32m    140\u001b[39m             \u001b[38;5;28;01mreturn\u001b[39;00m res\n\u001b[32m    141\u001b[39m         \u001b[38;5;28;01mexcept\u001b[39;00m BaseException:\n\u001b[32m--> \u001b[39m\u001b[32m142\u001b[39m             \u001b[38;5;28;01mraise\u001b[39;00m\n",
      "\u001b[32mc:\\Users\\fenil\\AppData\\Local\\Programs\\Python\\Python313\\Lib\\site-packages\\spiceypy\\spiceypy.py\u001b[39m in \u001b[36m?\u001b[39m\u001b[34m(f)\u001b[39m\n\u001b[32m    118\u001b[39m         explain = getmsg(\u001b[33m\"EXPLAIN\"\u001b[39m, \u001b[32m100\u001b[39m).strip()\n\u001b[32m    119\u001b[39m         long = getmsg(\u001b[33m\"LONG\"\u001b[39m, \u001b[32m1841\u001b[39m).strip()\n\u001b[32m    120\u001b[39m         traceback = qcktrc(\u001b[32m200\u001b[39m)\n\u001b[32m    121\u001b[39m         reset()\n\u001b[32m--> \u001b[39m\u001b[32m122\u001b[39m         raise dynamically_instantiate_spiceyerror(\n\u001b[32m    123\u001b[39m             short=short, explain=explain, long=long, traceback=traceback\n\u001b[32m    124\u001b[39m         )\n",
      "\u001b[31mSpiceNOLEAPSECONDS\u001b[39m: \n================================================================================\n\nToolkit version: CSPICE_N0067\n\nSPICE(NOLEAPSECONDS) --\n\nThe variable that points to the leapseconds (DELTET/DELTA_AT) could not be located in the kernel pool.  It is likely that the leapseconds kernel has not been loaded.\n\nutc2et_c --> UTC2ET --> TTRANS\n\n================================================================================"
     ]
    }
   ],
   "source": [
    "# We want to compute the Solar System barycentre (SSB) w.r.t to the centre of\n",
    "# the Sun for a certain time interval\n",
    "# First, we set an initial time in UTC.\n",
    "init_time_utc = datetime.datetime(year=2000, month=1, day=1, \\\n",
    "                                  hour=0, minute=0, second=0)\n",
    "\n",
    "# Add a number of days; you can play around with the datetime variables; but\n",
    "# leave it as it is for the first try, since other computations and comments\n",
    "# are based on this value.\n",
    "delta_days = 10000\n",
    "end_time_utc = init_time_utc + datetime.timedelta(days=delta_days)\n",
    "\n",
    "# Convert the datetime objects now to strings\n",
    "init_time_utc_str = init_time_utc.strftime('%Y-%m-%dT%H:%M:%S')\n",
    "end_time_utc_str = end_time_utc.strftime('%Y-%m-%dT%H:%M:%S')\n",
    "\n",
    "# Print the starting and end times\n",
    "print('Init time in UTC: %s' % init_time_utc_str)\n",
    "print('End time in UTC: %s\\n' % end_time_utc_str)\n",
    "\n",
    "# Convert to Ephemeris Time (ET) using the SPICE function utc2et.\n",
    "init_time_et = spiceypy.utc2et(init_time_utc_str)\n",
    "end_time_et = spiceypy.utc2et(end_time_utc_str)"
   ]
  },
  {
   "cell_type": "code",
   "execution_count": null,
   "metadata": {},
   "outputs": [],
   "source": [
    "# Now we compute the position of the Solar System's barycentre w.r.t. our Sun:\n",
    "# First we set an empty list that stores later all x, y, z components for each\n",
    "# time step\n",
    "ssb_wrt_sun_position = []\n",
    "\n",
    "# Time interval\n",
    "time_interval_et = np.linspace(init_time_et, end_time_et, delta_days)\n",
    "\n",
    "# Each time step is used in this for-loop to compute the position of the SSB\n",
    "# w.r.t. the Sun. We use the function spkgps.\n",
    "for time_interval_et_f in time_interval_et:\n",
    "    _position, _ = spiceypy.spkgps(targ=0, et=time_interval_et_f, \\\n",
    "                                   ref='eclipj2000', obs=10)\n",
    "\n",
    "    # Append the result to the final list\n",
    "    ssb_wrt_sun_position.append(_position)\n",
    "\n",
    "# Convert the list to a numpy array\n",
    "ssb_wrt_sun_position = np.array(ssb_wrt_sun_position)"
   ]
  },
  {
   "cell_type": "code",
   "execution_count": null,
   "metadata": {},
   "outputs": [],
   "source": [
    "# We want to visualise the results, to a get feeling of the movement. Is the\n",
    "# movement somehow interesting and / or significant?\n",
    "\n",
    "# Using km are not intuitive. AU would scale it to severly. Since we compute\n",
    "# the SSB w.r.t the Sun; and since we expect it to be close to the Sun, we\n",
    "# scale the x, y, z component w.r.t the radius of the Sun. We extract the\n",
    "# Sun radii (x, y, z components of the Sun ellipsoid) and use the x component\n",
    "_, radii_sun = spiceypy.bodvcd(bodyid=10, item='RADII', maxn=3)\n",
    "\n",
    "radius_sun = radii_sun[0]\n",
    "\n",
    "# Scale the position values using the Sun's radius\n",
    "ssb_wrt_sun_position_scaled = ssb_wrt_sun_position / radius_sun"
   ]
  },
  {
   "cell_type": "code",
   "execution_count": null,
   "metadata": {},
   "outputs": [],
   "source": [
    "# We plot now the trajectory of the SSB w.r.t the Sun using matplotlib\n",
    "from matplotlib import pyplot as plt\n",
    "\n",
    "# We only plot the x, y components (view on the ecliptic plane)\n",
    "ssb_wrt_sun_position_scaled_xy = ssb_wrt_sun_position_scaled[:, 0:2]\n",
    "\n",
    "# Set a dark background... since... space is dark\n",
    "plt.style.use('dark_background')\n",
    "\n",
    "# Create a figure and ax.\n",
    "fig, ax = plt.subplots(figsize=(12, 8))\n",
    "\n",
    "# Create a yellow circle that represents the Sun, add it to the ax\n",
    "sun_circ = plt.Circle((0.0, 0.0), 1.0, color='yellow', alpha=0.8)\n",
    "ax.add_artist(sun_circ)\n",
    "\n",
    "# Plot the SSB movement\n",
    "ax.plot(ssb_wrt_sun_position_scaled_xy[:, 0], \\\n",
    "        ssb_wrt_sun_position_scaled_xy[:, 1], \\\n",
    "        ls='solid', color='royalblue')\n",
    "\n",
    "# Set some parameters for the plot, set an equal ratio, set a grid, and set\n",
    "# the x and y limits\n",
    "ax.set_aspect('equal')\n",
    "ax.grid(True, linestyle='dashed', alpha=0.5)\n",
    "ax.set_xlim(-2, 2)\n",
    "ax.set_ylim(-2, 2)\n",
    "\n",
    "# Some labelling\n",
    "ax.set_xlabel('x in sun-radius')\n",
    "ax.set_ylabel('y in sun-radius')\n",
    "\n",
    "# Saving the figure in high quality.\n",
    "plt.savefig('SSB_WRT_SUN.png', dpi=300)"
   ]
  },
  {
   "cell_type": "code",
   "execution_count": null,
   "metadata": {},
   "outputs": [],
   "source": [
    "# How many days is the SSB outside the Sun? First, we compute the euclidean\n",
    "# distance between the SSB and Sun.\n",
    "ssb_wrt_sun_distance_scaled = np.linalg.norm(ssb_wrt_sun_position_scaled, \\\n",
    "                                             axis=1)\n",
    "\n",
    "print('computation time: %s days\\n' % delta_days)\n",
    "\n",
    "# Compute number of days outside the Sun\n",
    "ssb_outside_sun_delta_days = len(np.where(ssb_wrt_sun_distance_scaled > 1)[0])\n",
    "\n",
    "print('fraction of time where the ssb\\n' \\\n",
    "      'was outside the sun: %s %%' % (100 * ssb_outside_sun_delta_days \\\n",
    "                                      / delta_days))"
   ]
  }
 ],
 "metadata": {
  "kernelspec": {
   "display_name": "Python 3",
   "language": "python",
   "name": "python3"
  },
  "language_info": {
   "codemirror_mode": {
    "name": "ipython",
    "version": 3
   },
   "file_extension": ".py",
   "mimetype": "text/x-python",
   "name": "python",
   "nbconvert_exporter": "python",
   "pygments_lexer": "ipython3",
   "version": "3.13.2"
  }
 },
 "nbformat": 4,
 "nbformat_minor": 2
}
