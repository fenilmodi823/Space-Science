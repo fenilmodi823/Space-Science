{
 "cells": [
  {
   "cell_type": "code",
   "execution_count": 9,
   "metadata": {},
   "outputs": [],
   "source": [
    "# Import the standard modules\n",
    "import datetime\n",
    "import pathlib\n",
    "import sqlite3\n",
    "\n",
    "# Import installed modules\n",
    "import pandas as pd\n",
    "import numpy as np\n",
    "import spiceypy\n",
    "\n",
    "# Import the Python script func from the auxiliary folder\n",
    "import sys\n",
    "sys.path.insert(1, '../auxiliary')\n",
    "import data_fetch"
   ]
  },
  {
   "cell_type": "code",
   "execution_count": 10,
   "metadata": {},
   "outputs": [],
   "source": [
    "dl_path = \"raw_data/\"\n",
    "dl_url = \"https://www.minorplanetcenter.net/Extended_Files/cometels.json.gz\"\n",
    "\n",
    "data_fetch.download_file(dl_path, dl_url)"
   ]
  },
  {
   "cell_type": "code",
   "execution_count": 11,
   "metadata": {},
   "outputs": [
    {
     "name": "stdout",
     "output_type": "stream",
     "text": [
      "Total Kernels Loaded: 2\n"
     ]
    }
   ],
   "source": [
    "# Clear any previously loaded kernels\n",
    "spiceypy.kclear()\n",
    "\n",
    "kernels = [\n",
    "    '../kernels/pck/gm_de431.tpc',\n",
    "    '../kernels/lsk/naif0012.tls'\n",
    "]\n",
    "\n",
    "for kernel in kernels:\n",
    "    spiceypy.furnsh(kernel)\n",
    "\n",
    "print(\"Total Kernels Loaded:\", spiceypy.ktotal(\"ALL\"))"
   ]
  },
  {
   "cell_type": "code",
   "execution_count": 12,
   "metadata": {},
   "outputs": [],
   "source": [
    "c_df = pd.read_json(\"raw_data/cometels.json.gz\", compression=\"gzip\")"
   ]
  },
  {
   "cell_type": "code",
   "execution_count": 13,
   "metadata": {},
   "outputs": [],
   "source": [
    "c_df.loc[:, \"EPOCH_UTC_DATE\"] = c_df.apply(lambda x: str(x[\"Year_of_perihelion\"]) + '_'\n",
    "                                           + str(x[\"Month_of_perihelion\"]) + '_' + str(x[\"Day_of_perihelion\"]).split('_')[0], axis=1)"
   ]
  },
  {
   "cell_type": "code",
   "execution_count": 14,
   "metadata": {},
   "outputs": [
    {
     "data": {
      "text/plain": [
       "0                   2026_6_15.6419\n",
       "1                    2027_9_7.7179\n",
       "2                   2025_10_30.298\n",
       "3       2025_12_21.872700000000002\n",
       "4                   2025_12_2.3003\n",
       "                   ...            \n",
       "1183               2025_10_22.4562\n",
       "1184                2025_3_10.2824\n",
       "1185                2025_2_15.3644\n",
       "1186                 2017_9_9.4886\n",
       "1187                2019_12_8.5548\n",
       "Name: EPOCH_UTC_DATE, Length: 1188, dtype: object"
      ]
     },
     "execution_count": 14,
     "metadata": {},
     "output_type": "execute_result"
    }
   ],
   "source": [
    "c_df.EPOCH_UTC_DATE"
   ]
  }
 ],
 "metadata": {
  "kernelspec": {
   "display_name": "Python 3",
   "language": "python",
   "name": "python3"
  },
  "language_info": {
   "codemirror_mode": {
    "name": "ipython",
    "version": 3
   },
   "file_extension": ".py",
   "mimetype": "text/x-python",
   "name": "python",
   "nbconvert_exporter": "python",
   "pygments_lexer": "ipython3",
   "version": "3.13.2"
  }
 },
 "nbformat": 4,
 "nbformat_minor": 2
}
