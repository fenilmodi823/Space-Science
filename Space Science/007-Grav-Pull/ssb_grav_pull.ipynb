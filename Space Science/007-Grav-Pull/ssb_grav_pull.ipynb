{
 "cells": [
  {
   "cell_type": "code",
   "execution_count": 3,
   "metadata": {},
   "outputs": [
    {
     "name": "stdout",
     "output_type": "stream",
     "text": [
      "Meta Kernel Loaded: 1\n",
      "Total Kernels Loaded: 4\n",
      "Init time in UTC: 2000-01-01T00:00:00\n",
      "End time in UTC: 2027-05-19T00:00:00\n",
      "\n"
     ]
    }
   ],
   "source": [
    "# Import modules\n",
    "import datetime\n",
    "\n",
    "from matplotlib import pyplot as plt\n",
    "import numpy as np\n",
    "import pandas as pd\n",
    "import spiceypy\n",
    "\n",
    "# Clear any previously loaded kernels\n",
    "spiceypy.kclear()\n",
    "\n",
    "# Load kernels via meta file\n",
    "spiceypy.furnsh('kernel_meta.txt')\n",
    "print(\"Meta Kernel Loaded:\", spiceypy.ktotal(\"ALL\"))\n",
    "\n",
    "# Manually load kernels (in correct order)\n",
    "spiceypy.furnsh('../kernels/lsk/naif0012.tls')  # Leap Seconds\n",
    "spiceypy.furnsh('../kernels/spk/de432s.bsp')    # Ephemeris Data\n",
    "spiceypy.furnsh('../kernels/pck/pck00010.tpc')  # Planet Constants\n",
    "\n",
    "# Verify total loaded kernels\n",
    "print(\"Total Kernels Loaded:\", spiceypy.ktotal(\"ALL\"))\n",
    "\n",
    "# We want to compute miscellaneous positions w.r.t. the centre of\n",
    "# the Sun for a certain time interval.\n",
    "# First, we set an initial time in UTC.\n",
    "init_time_utc = datetime.datetime(year=2000, month=1, day=1, \\\n",
    "                                  hour=0, minute=0, second=0)\n",
    "\n",
    "# Add a number of days; you can play around with the datetime variables; but\n",
    "# leave it as it is for the first try, since other computations and comments\n",
    "# are based on this value.\n",
    "delta_days = 10000\n",
    "end_time_utc = init_time_utc + datetime.timedelta(days=delta_days)\n",
    "\n",
    "# Convert the datetime objects now to strings\n",
    "init_time_utc_str = init_time_utc.strftime('%Y-%m-%dT%H:%H:%S')\n",
    "end_time_utc_str = end_time_utc.strftime('%Y-%m-%dT%H:%H:%S')\n",
    "\n",
    "# Print the starting and end times\n",
    "print('Init time in UTC: %s' % init_time_utc_str)\n",
    "print('End time in UTC: %s\\n' % end_time_utc_str)\n",
    "\n",
    "# Convert to Ephemeris Time (ET) using the SPICE function utc2et\n",
    "init_time_et = spiceypy.utc2et(init_time_utc_str)\n",
    "end_time_et = spiceypy.utc2et(end_time_utc_str)\n",
    "\n",
    "# Create a numpy array that covers a time interval in delta = 1 day step\n",
    "time_interval_et = np.linspace(init_time_et, end_time_et, delta_days)"
   ]
  },
  {
   "cell_type": "code",
   "execution_count": 4,
   "metadata": {},
   "outputs": [],
   "source": [
    "# Using km is not intuitive. AU would scale it too severely. Since we compute\n",
    "# the Solar System Barycentre (SSB) w.r.t. the Sun; and since we expect it to\n",
    "# be close to the Sun, we scale the x, y, z component w.r.t the radius of the\n",
    "# Sun. We extract the Sun radii (x, y, z components of the Sun ellipsoid) and\n",
    "# use the x component\n",
    "_, radii_sun = spiceypy.bodvcd(bodyid=10, item='RADII', maxn=3)\n",
    "\n",
    "radius_sun = radii_sun[0]"
   ]
  },
  {
   "cell_type": "code",
   "execution_count": null,
   "metadata": {},
   "outputs": [
    {
     "name": "stdout",
     "output_type": "stream",
     "text": [
      "                ET         UTC  \\\n",
      "0    -4.313582e+04  2000-01-01   \n",
      "1     4.327283e+04  2000-01-02   \n",
      "2     1.296815e+05  2000-01-03   \n",
      "3     2.160901e+05  2000-01-04   \n",
      "4     3.024987e+05  2000-01-05   \n",
      "...            ...         ...   \n",
      "9995  8.636112e+08  2027-05-14   \n",
      "9996  8.636976e+08  2027-05-15   \n",
      "9997  8.637841e+08  2027-05-16   \n",
      "9998  8.638705e+08  2027-05-17   \n",
      "9999  8.639569e+08  2027-05-19   \n",
      "\n",
      "                                        POS_SSB_WRT_SUN POS_SSB_WRT_SUN_SCALED  \n",
      "0     [1068000.1891061615, 417680.9418664607, -30844...               1.648254  \n",
      "1     [1067195.5017360714, 418789.11029741366, -3083...               1.647758  \n",
      "2     [1066389.5596805303, 419896.06924681185, -3081...               1.647262  \n",
      "3     [1065582.365061001, 421001.82313176966, -30802...               1.646766  \n",
      "4     [1064773.9198190796, 422106.3763607678, -30788...               1.646269  \n",
      "...                                                 ...                    ...  \n",
      "9995  [4663.265215005825, 653522.8491930669, -10147....               0.939107  \n",
      "9996  [3986.9114982562483, 652910.4356407273, -10131...                0.93822  \n",
      "9997  [3311.597377454852, 652297.295702135, -10115.7...               0.937334  \n",
      "9998  [2637.3234622905757, 651683.4323080052, -10099...               0.936447  \n",
      "9999  [1964.0898354642247, 651068.8481818008, -10083...                0.93556  \n",
      "\n",
      "[10000 rows x 4 columns]\n"
     ]
    }
   ],
   "source": [
    "solar_system_df = pd.DataFrame()\n",
    "\n",
    "solar_system_df.loc[:, \"ET\"] = time_interval_et\n",
    "\n",
    "solar_system_df.loc[:, \"UTC\"] = \\\n",
    "    solar_system_df[\"ET\"].apply(lambda x: spiceypy.et2datetime(et=x).date())\n",
    "\n",
    "solar_system_df.loc[:, \"POS_SSB_WRT_SUN\"] = \\\n",
    "    solar_system_df[\"ET\"].apply(lambda x: spiceypy.spkgps(targ=0, \n",
    "                                                          et=x, ref='ECLIPJ2000', obs=10)[0])\n",
    "\n",
    "solar_system_df.loc[:, \"POS_SSB_WRT_SUN_SCALED\"] = \\\n",
    "    solar_system_df[\"POS_SSB_WRT_SUN\"].apply(lambda x: x / radius_sun)\n",
    "\n",
    "solar_system_df.loc[:, \"POS_SSB_WRT_SUN_SCALED\"] = \\\n",
    "    solar_system_df[\"POS_SSB_WRT_SUN_SCALED\"].apply(lambda x: spiceypy.vnorm(x))"
   ]
  },
  {
   "cell_type": "code",
   "execution_count": null,
   "metadata": {},
   "outputs": [],
   "source": []
  }
 ],
 "metadata": {
  "kernelspec": {
   "display_name": "Python 3",
   "language": "python",
   "name": "python3"
  },
  "language_info": {
   "codemirror_mode": {
    "name": "ipython",
    "version": 3
   },
   "file_extension": ".py",
   "mimetype": "text/x-python",
   "name": "python",
   "nbconvert_exporter": "python",
   "pygments_lexer": "ipython3",
   "version": "3.13.2"
  }
 },
 "nbformat": 4,
 "nbformat_minor": 2
}
