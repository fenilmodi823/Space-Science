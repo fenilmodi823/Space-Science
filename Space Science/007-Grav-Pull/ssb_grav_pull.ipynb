{
 "cells": [
  {
   "cell_type": "code",
   "execution_count": null,
   "metadata": {},
   "outputs": [
    {
     "name": "stdout",
     "output_type": "stream",
     "text": [
      "Meta Kernel Loaded: 1\n",
      "Total Kernels Loaded: 4\n",
      "Init time in UTC: 2000-01-01T00:00:00\n",
      "End time in UTC: 2027-05-19T00:00:00\n",
      "\n"
     ]
    }
   ],
   "source": [
    "# Import modules\n",
    "import datetime\n",
    "\n",
    "from matplotlib import pyplot as plt\n",
    "import numpy as np\n",
    "import pandas as pd\n",
    "import spiceypy\n",
    "\n",
    "# Clear any previously loaded kernels\n",
    "spiceypy.kclear()\n",
    "\n",
    "# Load kernels via meta file\n",
    "spiceypy.furnsh('kernel_meta.txt')\n",
    "print(\"Meta Kernel Loaded:\", spiceypy.ktotal(\"ALL\"))\n",
    "\n",
    "# Manually load kernels (in correct order)\n",
    "spiceypy.furnsh('../kernels/lsk/naif0012.tls')  # Leap Seconds\n",
    "spiceypy.furnsh('../kernels/spk/de432s.bsp')    # Ephemeris Data\n",
    "spiceypy.furnsh('../kernels/pck/pck00010.tpc')  # Planet Constants\n",
    "\n",
    "# Verify total loaded kernels\n",
    "print(\"Total Kernels Loaded:\", spiceypy.ktotal(\"ALL\"))\n",
    "\n",
    "# We want to compute miscellaneous positions w.r.t. the centre of\n",
    "# the Sun for a certain time interval.\n",
    "# First, we set an initial time in UTC.\n",
    "init_time_utc = datetime.datetime(year=2000, month=1, day=1, \\\n",
    "                                  hour=0, minute=0, second=0)\n",
    "\n",
    "# Add a number of days; you can play around with the datetime variables; but\n",
    "# leave it as it is for the first try, since other computations and comments\n",
    "# are based on this value.\n",
    "delta_days = 10000\n",
    "end_time_utc = init_time_utc + datetime.timedelta(days=delta_days)\n",
    "\n",
    "# Convert the datetime objects now to strings\n",
    "init_time_utc_str = init_time_utc.strftime('%Y-%m-%dT%H:%H:%S')\n",
    "end_time_utc_str = end_time_utc.strftime('%Y-%m-%dT%H:%H:%S')\n",
    "\n",
    "# Print the starting and end times\n",
    "print('Init time in UTC: %s' % init_time_utc_str)\n",
    "print('End time in UTC: %s\\n' % end_time_utc_str)\n",
    "\n",
    "# Convert to Ephemeris Time (ET) using the SPICE function utc2et\n",
    "init_time_et = spiceypy.utc2et(init_time_utc_str)\n",
    "end_time_et = spiceypy.utc2et(end_time_utc_str)\n",
    "\n",
    "# Create a numpy array that covers a time interval in delta = 1 day step\n",
    "time_interval_et = np.linspace(init_time_et, end_time_et, delta_days)"
   ]
  },
  {
   "cell_type": "code",
   "execution_count": 2,
   "metadata": {},
   "outputs": [],
   "source": [
    "# Using km is not intuitive. AU would scale it too severely. Since we compute\n",
    "# the Solar System Barycentre (SSB) w.r.t. the Sun; and since we expect it to\n",
    "# be close to the Sun, we scale the x, y, z component w.r.t the radius of the\n",
    "# Sun. We extract the Sun radii (x, y, z components of the Sun ellipsoid) and\n",
    "# use the x component\n",
    "_, radii_sun = spiceypy.bodvcd(bodyid=10, item='RADII', maxn=3)\n",
    "\n",
    "radius_sun = radii_sun[0]"
   ]
  }
 ],
 "metadata": {
  "kernelspec": {
   "display_name": "Python 3",
   "language": "python",
   "name": "python3"
  },
  "language_info": {
   "codemirror_mode": {
    "name": "ipython",
    "version": 3
   },
   "file_extension": ".py",
   "mimetype": "text/x-python",
   "name": "python",
   "nbconvert_exporter": "python",
   "pygments_lexer": "ipython3",
   "version": "3.13.2"
  }
 },
 "nbformat": 4,
 "nbformat_minor": 2
}
