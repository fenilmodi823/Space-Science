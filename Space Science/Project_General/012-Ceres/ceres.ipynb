{
 "cells": [
  {
   "cell_type": "code",
   "execution_count": 1,
   "metadata": {},
   "outputs": [],
   "source": [
    "# Import the modules\n",
    "import datetime\n",
    "\n",
    "import numpy as np\n",
    "import spiceypy"
   ]
  },
  {
   "cell_type": "code",
   "execution_count": 2,
   "metadata": {},
   "outputs": [
    {
     "name": "stdout",
     "output_type": "stream",
     "text": [
      "Total Kernels Loaded: 5\n"
     ]
    }
   ],
   "source": [
    "kernels = [\n",
    "    '../../kernels/spk/de432s.bsp',\n",
    "    '../../kernels/spk/codes_300ast_20100725.bsp',\n",
    "    '../../kernels/misc/codes_300ast_20100725.tf',\n",
    "    '../../kernels/lsk/naif0012.tls',\n",
    "    '../../kernels/pck/gm_de431.tpc'\n",
    "]\n",
    "\n",
    "for kernel in kernels:\n",
    "    spiceypy.furnsh(kernel)\n",
    "\n",
    "print(\"Total Kernels Loaded:\", spiceypy.ktotal(\"ALL\"))\n",
    "\n",
    "# Create an initial date-time object that is converted to a string\n",
    "datetime_utc = datetime.datetime.now().strftime('%Y-%m-%dT%H:%M:%S')\n",
    "\n",
    "# Convert to Ephemeris Time (ET) using the SPICE function utc2et\n",
    "datetime_et = spiceypy.utc2et(datetime_utc)"
   ]
  },
  {
   "cell_type": "code",
   "execution_count": 3,
   "metadata": {},
   "outputs": [
    {
     "name": "stdout",
     "output_type": "stream",
     "text": [
      "Transformation matrix between ECLIPJ2000_DE405 and ECLIPJ2000\n",
      "[1. 0. 0. 0. 0. 0.]\n",
      "[0. 1. 0. 0. 0. 0.]\n",
      "[ 0. -0.  1.  0.  0.  0.]\n",
      "[0. 0. 0. 1. 0. 0.]\n",
      "[0. 0. 0. 0. 1. 0.]\n",
      "[ 0.  0.  0.  0. -0.  1.]\n"
     ]
    }
   ],
   "source": [
    "# ECLIPJ2000_DE405 and ECLIPJ2000 appear to be similar?! A transformation\n",
    "# matrix between both coordinate systems (for state vectors) should be\n",
    "# consequently the identity matrix\n",
    "mat = spiceypy.sxform(instring='ECLIPJ2000_DE405', \\\n",
    "                      tostring='ECLIPJ2000', \\\n",
    "                      et=datetime_et)\n",
    "\n",
    "# Let's print the transformation matrix row-wise (spoiler alert: it is the\n",
    "# identity matrix)\n",
    "print('Transformation matrix between ECLIPJ2000_DE405 and ECLIPJ2000')\n",
    "for mat_row in mat:\n",
    "    print(f'{np.round(mat_row, 2)}')"
   ]
  },
  {
   "cell_type": "code",
   "execution_count": 4,
   "metadata": {},
   "outputs": [],
   "source": [
    "# Compute the state vector of Ceres in ECLIPJ2000 as seen from the Sun\n",
    "ceres_state_vector, _ = spiceypy.spkgeo(targ=2000001, \\\n",
    "                                        et=datetime_et, \\\n",
    "                                        ref='ECLIPJ2000',\n",
    "                                        obs=10)"
   ]
  },
  {
   "cell_type": "code",
   "execution_count": 5,
   "metadata": {},
   "outputs": [],
   "source": [
    "# Get the G*M value for the Sun\n",
    "_, gm_sun_pre = spiceypy.bodvcd(bodyid=10, item='GM', maxn=1)\n",
    "\n",
    "gm_sun = gm_sun_pre[0]"
   ]
  },
  {
   "cell_type": "code",
   "execution_count": 6,
   "metadata": {},
   "outputs": [],
   "source": [
    "# Compute the orbital elements of Ceres using the computed state vector\n",
    "ceres_orbital_elements = spiceypy.oscltx(state=ceres_state_vector, \\\n",
    "                                         et=datetime_et, \\\n",
    "                                         mu=gm_sun)\n",
    "\n",
    "# Set and convert the semi-major axis and perihelion from km to AU\n",
    "ceres_semi_major_au = spiceypy.convrt(ceres_orbital_elements[9], \\\n",
    "                                      inunit='km', outunit='AU')\n",
    "ceres_perihelion_au = spiceypy.convrt(ceres_orbital_elements[0], \\\n",
    "                                      inunit='km', outunit='AU')\n",
    "\n",
    "# Set the eccentricity\n",
    "ceres_ecc = ceres_orbital_elements[1]\n",
    "\n",
    "# Set and convert miscellaneous angular values from radians to degrees:\n",
    "# inc: Inclination\n",
    "# lnode: Longitude of ascending node\n",
    "# argp: Argument of perihelion\n",
    "ceres_inc_deg = np.degrees(ceres_orbital_elements[2])\n",
    "ceres_lnode_deg = np.degrees(ceres_orbital_elements[3])\n",
    "ceres_argp_deg = np.degrees(ceres_orbital_elements[4])\n",
    "\n",
    "# Set the orbit period. Convert from seconds to years\n",
    "ceres_orb_time_years = ceres_orbital_elements[10] / (86400.0 * 365.0)"
   ]
  },
  {
   "cell_type": "code",
   "execution_count": 7,
   "metadata": {},
   "outputs": [
    {
     "name": "stdout",
     "output_type": "stream",
     "text": [
      "Ceres' Orbital Elements\n",
      "Semi-major axis in AU: 2.77 (MPC: 2.77)\n",
      "Perihelion in AU: 2.55 (MPC: 2.55)\n",
      "Eccentricity: 0.08 (MPC: 0.08)\n",
      "Inclination in degrees: 10.6 (MPC: 10.6)\n",
      "Long. of. asc. node in degrees: 80.3 (MPC: 80.3)\n",
      "Argument of perih. in degrees: 73.3 (MPC: 73.7)\n",
      "Orbit period in years: 4.6 (MPC: 4.60)\n"
     ]
    }
   ],
   "source": [
    "# Compare the results with the data from the Minor Planet Center\n",
    "# https://www.minorplanetcenter.net/dwarf_planets\n",
    "\n",
    "# Print the results next to the MPC results\n",
    "print('Ceres\\' Orbital Elements')\n",
    "print(f'Semi-major axis in AU: {round(ceres_semi_major_au, 2)} (MPC: 2.77)')\n",
    "print(f'Perihelion in AU: {round(ceres_perihelion_au, 2)} (MPC: 2.55)')\n",
    "\n",
    "print(f'Eccentricity: {round(ceres_ecc, 2)} (MPC: 0.08)')\n",
    "\n",
    "print(f'Inclination in degrees: {round(ceres_inc_deg, 1)} (MPC: 10.6)')\n",
    "print(f'Long. of. asc. node in degrees: {round(ceres_lnode_deg, 1)} ' \\\n",
    "      '(MPC: 80.3)')\n",
    "print(f'Argument of perih. in degrees: {round(ceres_argp_deg, 1)} ' \\\n",
    "      '(MPC: 73.7)')\n",
    "\n",
    "print(f'Orbit period in years: {round(ceres_orb_time_years, 2)} ' \\\n",
    "      '(MPC: 4.60)')"
   ]
  },
  {
   "cell_type": "code",
   "execution_count": 8,
   "metadata": {},
   "outputs": [
    {
     "name": "stdout",
     "output_type": "stream",
     "text": [
      "State vector of Ceres from the kernel:\n",
      "[ 4.03025008e+08 -1.75064901e+08 -7.97880683e+07  6.39341987e+00\n",
      "  1.52401018e+01 -6.95535212e-01]\n",
      "State vector of Ceres based on the determined orbital elements:\n",
      "[ 4.03025008e+08 -1.75064901e+08 -7.97880683e+07  6.39341987e+00\n",
      "  1.52401018e+01 -6.95535212e-01]\n",
      "\n",
      "\n"
     ]
    }
   ],
   "source": [
    "# Convert the orbital elements back to the state vector\n",
    "ceres_state_re = spiceypy.conics([ceres_orbital_elements[0], \\\n",
    "                                  ceres_orbital_elements[1], \\\n",
    "                                  ceres_orbital_elements[2], \\\n",
    "                                  ceres_orbital_elements[3], \\\n",
    "                                  ceres_orbital_elements[4], \\\n",
    "                                  ceres_orbital_elements[5], \\\n",
    "                                  ceres_orbital_elements[6], \\\n",
    "                                  gm_sun], datetime_et)\n",
    "\n",
    "print('State vector of Ceres from the kernel:\\n' \\\n",
    "      f'{ceres_state_vector}')\n",
    "print('State vector of Ceres based on the determined orbital elements:\\n' \\\n",
    "      f'{ceres_state_re}')\n",
    "print('\\n')"
   ]
  }
 ],
 "metadata": {
  "kernelspec": {
   "display_name": "Python 3",
   "language": "python",
   "name": "python3"
  },
  "language_info": {
   "codemirror_mode": {
    "name": "ipython",
    "version": 3
   },
   "file_extension": ".py",
   "mimetype": "text/x-python",
   "name": "python",
   "nbconvert_exporter": "python",
   "pygments_lexer": "ipython3",
   "version": "3.13.2"
  }
 },
 "nbformat": 4,
 "nbformat_minor": 2
}
