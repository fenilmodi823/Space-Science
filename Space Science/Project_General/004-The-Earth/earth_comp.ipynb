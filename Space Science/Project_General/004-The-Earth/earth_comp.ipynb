{
 "cells": [
  {
   "cell_type": "code",
   "execution_count": 1,
   "metadata": {},
   "outputs": [],
   "source": [
    "# Import the SPICE module\n",
    "import spiceypy"
   ]
  },
  {
   "cell_type": "code",
   "execution_count": 2,
   "metadata": {},
   "outputs": [
    {
     "name": "stdout",
     "output_type": "stream",
     "text": [
      "Today's date (midnight): 2025-04-11T00:00:00\n"
     ]
    }
   ],
   "source": [
    "# Import datetime and get the current time stamp\n",
    "import datetime\n",
    "\n",
    "# get today's date\n",
    "date_today = datetime.datetime.today()\n",
    "\n",
    "# convert the datetime to a string, replacing the time with midnight\n",
    "date_today = date_today.strftime('%Y-%m-%dT00:00:00')\n",
    "print(f\"Today's date (midnight): {date_today}\")"
   ]
  },
  {
   "cell_type": "code",
   "execution_count": 3,
   "metadata": {},
   "outputs": [],
   "source": [
    "# Load the spice kernels for leapseconds and for the planets\n",
    "spiceypy.furnsh('../../kernels/lsk/naif0012.tls')\n",
    "spiceypy.furnsh('../../kernels/spk/de432s.bsp')"
   ]
  },
  {
   "cell_type": "code",
   "execution_count": 4,
   "metadata": {},
   "outputs": [
    {
     "name": "stdout",
     "output_type": "stream",
     "text": [
      "The Ephemeris Time: 797601669.1856445\n"
     ]
    }
   ],
   "source": [
    "# Compute the Ephemeris Time\n",
    "et_today_midnight = spiceypy.utc2et(date_today)\n",
    "print(f\"The Ephemeris Time: {et_today_midnight}\")"
   ]
  },
  {
   "cell_type": "code",
   "execution_count": 5,
   "metadata": {},
   "outputs": [],
   "source": [
    "# Compute the state vector of the Earth w.r.t. the Sun\n",
    "earth_state_wrt_sun, earth_sun_light_time = spiceypy.spkgeo(targ=399,\n",
    "                                                            et=et_today_midnight,\n",
    "                                                            ref='ECLIPJ2000',\n",
    "                                                            obs=10)"
   ]
  },
  {
   "cell_type": "code",
   "execution_count": 6,
   "metadata": {},
   "outputs": [
    {
     "name": "stdout",
     "output_type": "stream",
     "text": [
      "State vector of the Earth w.r.t. the Sun for \"today\" (midnight):\n",
      " [-1.39936019e+08 -5.37429778e+07  3.99081264e+03  1.01966096e+01\n",
      " -2.79080519e+01  2.67961721e-03]\n"
     ]
    }
   ],
   "source": [
    "# The state vector is 6 dimensional: x,y,z in km and the corresponding velocities in km/s\n",
    "print('State vector of the Earth w.r.t. the Sun for \"today\" (midnight):\\n', earth_state_wrt_sun)"
   ]
  },
  {
   "cell_type": "code",
   "execution_count": 7,
   "metadata": {},
   "outputs": [],
   "source": [
    "# The (Euclidean) distance should be around 1 AU. Why \"around\"? Well the Earth revolves the Sun in\n",
    "# a slightly non-perfect circle (elliptic orbit). First, we compute the distance in km.\n",
    "import math\n",
    "earth_sun_distance = math.sqrt(earth_state_wrt_sun[0]**2.0 \\\n",
    "                             + earth_state_wrt_sun[1]**2.0 \\\n",
    "                             + earth_state_wrt_sun[2]**2.0)"
   ]
  },
  {
   "cell_type": "code",
   "execution_count": 8,
   "metadata": {},
   "outputs": [
    {
     "name": "stdout",
     "output_type": "stream",
     "text": [
      "Current distance between the Earth and the Sun in AU: 1.0020282393384037\n"
     ]
    }
   ],
   "source": [
    "# Convert the distance in astronomical units (1 AU)\n",
    "# Instead of searching for the \"most recent\" value, we use the default value in SPICE.\n",
    "# This way, we can easily compare our results with the results of others.\n",
    "earth_sun_distance_au = spiceypy.convrt(earth_sun_distance, 'km', 'AU')\n",
    "\n",
    "# Cool, it works!\n",
    "print('Current distance between the Earth and the Sun in AU:', earth_sun_distance_au)"
   ]
  }
 ],
 "metadata": {
  "kernelspec": {
   "display_name": "Python 3",
   "language": "python",
   "name": "python3"
  },
  "language_info": {
   "codemirror_mode": {
    "name": "ipython",
    "version": 3
   },
   "file_extension": ".py",
   "mimetype": "text/x-python",
   "name": "python",
   "nbconvert_exporter": "python",
   "pygments_lexer": "ipython3",
   "version": "3.13.2"
  }
 },
 "nbformat": 4,
 "nbformat_minor": 2
}
