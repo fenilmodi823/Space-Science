{
 "cells": [
  {
   "cell_type": "code",
   "execution_count": 13,
   "id": "d5464f37",
   "metadata": {},
   "outputs": [],
   "source": [
    "# Install default libraries\n",
    "import pathlib\n",
    "import sys\n",
    "\n",
    "# Import installed modules\n",
    "import pandas as pd\n",
    "import numpy as  np\n",
    "\n",
    "# Import the Python script from the auxiliary folder\n",
    "sys.path.insert(1, \"../auxiliary\")\n",
    "import data_fetch # type: ignore\n",
    "\n",
    "# Set a local download path and the URL to the 67P shape model data set\n",
    "dl_path = \"../kernels/dsk/\"\n",
    "\n",
    "# Set dictionary with 2 different resolutions\n",
    "comet_models = {\"low\": \"ROS_CG_M001_OSPCLPS_N_V1.OBJ\",\n",
    "                \"high\": \"ROS_CG_M004_OSPGDLR_N_V1.OBJ\"}\n",
    "\n",
    "# Which model?\n",
    "model_type = \"high\"\n",
    "\n",
    "# Shape model DL\n",
    "dl_url = f\"https://naif.jpl.nasa.gov/pub/naif/ROSETTA/kernels/dsk/{comet_models[model_type]}\"\n",
    "\n",
    "# If file not present: download it!\n",
    "\n",
    "if not pathlib.Path(f\"../kernels/dsk/{comet_models[model_type]}\").is_file():\n",
    "    \n",
    "    # Download the shape model, create (if needed) the download path and store the data set\n",
    "    data_fetch.download_file(dl_path, dl_url)"
   ]
  },
  {
   "cell_type": "code",
   "execution_count": 14,
   "id": "4b6d94d1",
   "metadata": {},
   "outputs": [
    {
     "name": "stderr",
     "output_type": "stream",
     "text": [
      "C:\\Users\\fenil\\AppData\\Local\\Temp\\ipykernel_23456\\1837411131.py:3: FutureWarning: The 'delim_whitespace' keyword in pd.read_csv is deprecated and will be removed in a future version. Use ``sep='\\s+'`` instead\n",
      "  comet_67p_shape_obj = pd.read_csv(f\"../kernels/dsk/{comet_models[model_type]}\", \\\n"
     ]
    }
   ],
   "source": [
    "# Load the shape model. The first column lists whether the row is a vertex or face. The second,\n",
    "# third and fourth column list the coordiantes (vertex) and vertex indices (faces)\n",
    "comet_67p_shape_obj = pd.read_csv(f\"../kernels/dsk/{comet_models[model_type]}\", \\\n",
    "                                  delim_whitespace=True, \\\n",
    "                                  names=[\"TYPE\", \"X1\", \"X2\", \"X3\"])\n",
    "\n",
    "# Assign the vertices and faces\n",
    "vertices = comet_67p_shape_obj.loc[comet_67p_shape_obj[\"TYPE\"] == \"v\"][[\"X1\", \"X2\", \"X3\"]].values \\\n",
    "               .tolist()\n",
    "faces = comet_67p_shape_obj.loc[comet_67p_shape_obj[\"TYPE\"] == \"f\"][[\"X1\", \"X2\", \"X3\"]].values\n",
    "\n",
    "# The index in the faces sub set starts at 1. For Python, it needs to start at 0.\n",
    "faces = faces - 1\n",
    "\n",
    "# Convert the indices to integer\n",
    "faces = faces.astype(int)\n",
    "\n",
    "# Convert the numpy array to a Python list\n",
    "faces = faces.tolist()"
   ]
  },
  {
   "cell_type": "code",
   "execution_count": 15,
   "id": "2f7e085e",
   "metadata": {},
   "outputs": [],
   "source": [
    "# Doing some SPICE magic here!\n",
    "import spiceypy\n",
    "\n",
    "# Load the time kernel\n",
    "spiceypy.furnsh(\"../kernels/lsk/naif0012.tls\")\n",
    "\n",
    "# Load the CG related FIXED reference frame\n",
    "spiceypy.furnsh(\"../kernels/fk/ROS_CHURYUMOV_V01.TF\")\n",
    "\n",
    "# Load in the \"rebound\" kernel\n",
    "spiceypy.furnsh(\"../kernels/spk/LORB_C_G_FIXED_RBD_7_V2_0.BSP\")\n",
    "\n",
    "# Get the kernel, check the cardinality and determine the startin and end times\n",
    "rebound_kernel = spiceypy.spkcov(spk=\"../kernels/spk/LORB_C_G_FIXED_RBD_7_V2_0.BSP\",\n",
    "                                 idcode=-226800)\n",
    "rebound_kernel_card = spiceypy.wncard(rebound_kernel)\n",
    "kernel_start_et, kernel_end_et = spiceypy.wnfetd(rebound_kernel,\n",
    "                                                 rebound_kernel_card-1)\n",
    "\n",
    "# List that will store the Philae trajectory\n",
    "philae_pos_vec = []\n",
    "\n",
    "# Iterate through the time steps where Philae jumped around\n",
    "for et_step in np.arange(kernel_start_et+100, kernel_end_et-100, 10):\n",
    "    \n",
    "    # Compute the position of Philae w.r.t. the center of 67P\n",
    "    philae_pos_vec.append(spiceypy.spkgps(targ=-226800,\n",
    "                                          et=et_step,\n",
    "                                          ref=\"67P/C-G_CK\",\n",
    "                                          obs=1000012)[0])\n",
    "    \n",
    "# Convert to numpy array\n",
    "philae_pos_vec = np.array(philae_pos_vec)"
   ]
  },
  {
   "cell_type": "code",
   "execution_count": 16,
   "id": "6897d212",
   "metadata": {},
   "outputs": [
    {
     "name": "stdout",
     "output_type": "stream",
     "text": [
      "[[ 2.14663947 -0.94805434  0.47659463]\n",
      " [ 2.14890232 -0.94692065  0.47452082]\n",
      " [ 2.15115527 -0.94578482  0.47244124]\n",
      " ...\n",
      " [ 2.44930453 -0.07388973 -0.3452023 ]\n",
      " [ 2.44911728 -0.07335983 -0.34545813]\n",
      " [ 2.44891806 -0.07282971 -0.3457068 ]]\n"
     ]
    }
   ],
   "source": [
    "# Let's take a look\n",
    "print(philae_pos_vec)"
   ]
  },
  {
   "cell_type": "code",
   "execution_count": 17,
   "id": "513af40b",
   "metadata": {},
   "outputs": [],
   "source": [
    "# Now we want to plot the comet (as last time), but with Philae's trajectory!\n",
    "import visvis as vv\n",
    "from visvis import Point, Pointset\n",
    "\n",
    "# Convert the philae position vector to a visvis Pointset\n",
    "pp = Pointset(philae_pos_vec)"
   ]
  },
  {
   "cell_type": "code",
   "execution_count": 18,
   "id": "9775a164",
   "metadata": {},
   "outputs": [],
   "source": [
    "# Create visvis application\n",
    "app = vv.use()\n",
    "\n",
    "# Create the 3 D shape model as a mesh. verticesPerFace equals 3 since triangles define the\n",
    "# mesh\"s surface in this case\n",
    "shape_obj = vv.mesh(vertices=vertices, faces=faces, verticesPerFace=3)\n",
    "shape_obj.specular = 0.0\n",
    "shape_obj.diffuse = 0.9\n",
    "\n",
    "# Get axes objects\n",
    "axes = vv.gca()\n",
    "\n",
    "# Set a black background\n",
    "axes.bgcolor = \"black\"\n",
    "\n",
    "# Deactivate the grid and make the x, y, z axes invisible\n",
    "axes.axis.showGrid = False\n",
    "axes.axis.visible = False\n",
    "\n",
    "# Set some camera settings\n",
    "# Please note: if you want to \"fly\" arond the comet with w, a, s, d (translation) and i, j, k, l\n",
    "# (tilt) replace \"3d\" with \"fly\"\n",
    "axes.camera = \"3d\"\n",
    "\n",
    "# Field of view in degrees\n",
    "axes.camera.fov = 60\n",
    "\n",
    "# Set default azmiuth and elevation angle in degrees\n",
    "axes.camera.azimuth = 120\n",
    "axes.camera.elevation = 25\n",
    "\n",
    "# Turn off the main light\n",
    "axes.light0.Off()\n",
    "\n",
    "# Create a fixed light source\n",
    "light_obj = axes.lights[1]\n",
    "light_obj.On()\n",
    "light_obj.position = (5.0, 5.0, 5.0, 0.0)\n",
    "\n",
    "# The stuff above was basically from last time. Now, add Philae's trajectory\n",
    "vv.plot(pp, ls='-', lc=\"w\", lw=5)\n",
    "\n",
    "# ... and run the application!\n",
    "app.Run()"
   ]
  },
  {
   "cell_type": "code",
   "execution_count": 19,
   "id": "d5719dd0",
   "metadata": {},
   "outputs": [],
   "source": [
    "# Tasks:\n",
    "#\n",
    "# 1. Plot also Philae descent phase\n",
    "# 2. Create an animation of the descent phase + the Sun's rays"
   ]
  }
 ],
 "metadata": {
  "kernelspec": {
   "display_name": "Python 3",
   "language": "python",
   "name": "python3"
  },
  "language_info": {
   "codemirror_mode": {
    "name": "ipython",
    "version": 3
   },
   "file_extension": ".py",
   "mimetype": "text/x-python",
   "name": "python",
   "nbconvert_exporter": "python",
   "pygments_lexer": "ipython3",
   "version": "3.13.2"
  }
 },
 "nbformat": 4,
 "nbformat_minor": 5
}
