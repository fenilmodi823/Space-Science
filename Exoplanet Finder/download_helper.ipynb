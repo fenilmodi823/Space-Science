{
 "cells": [
  {
   "cell_type": "code",
   "execution_count": null,
   "metadata": {},
   "outputs": [],
   "source": [
    "from urllib.request import urlopen\n",
    "from io import BytesIO\n",
    "from zipfile import ZipFile\n",
    "import os\n",
    "\n",
    "def download_and_unzip(url, extract_to='.'):\n",
    "    \"\"\" Downloads and extracts a ZIP file from the given URL to the specified directory. \"\"\"\n",
    "    http_response = urlopen(url)\n",
    "    zipfile = ZipFile(BytesIO(http_response.read()))\n",
    "\n",
    "    # Create folder if not exists\n",
    "    if not os.path.exists(extract_to):\n",
    "        os.makedirs(extract_to)\n",
    "\n",
    "    # Extract all files to the destination folder\n",
    "    zipfile.extractall(path=extract_to)\n",
    "    print(f\"Files successfully downloaded and extracted to: {extract_to}\")\n",
    "\n",
    "# Product Group ID (Observation ID)\n",
    "product_group_id = '62323123'\n",
    "\n",
    "# Construct Download URL\n",
    "url = 'https://mast.stsci.edu/api/v0.1/Download/bundle.zip?previews=false&obsid=' + product_group_id\n",
    "\n",
    "# Destination Folder Path (Set your custom folder path)\n",
    "destination = r'D:\\VS Code\\Science\\Exoplanet Finder'\n",
    "\n",
    "# Call the function\n",
    "download_and_unzip(url, destination)"
   ]
  }
 ],
 "metadata": {
  "kernelspec": {
   "display_name": "Python 3",
   "language": "python",
   "name": "python3"
  },
  "language_info": {
   "codemirror_mode": {
    "name": "ipython",
    "version": 3
   },
   "file_extension": ".py",
   "mimetype": "text/x-python",
   "name": "python",
   "nbconvert_exporter": "python",
   "pygments_lexer": "ipython3",
   "version": "3.13.2"
  }
 },
 "nbformat": 4,
 "nbformat_minor": 2
}
