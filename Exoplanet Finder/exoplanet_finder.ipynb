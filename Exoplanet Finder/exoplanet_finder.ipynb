{
 "cells": [
  {
   "cell_type": "code",
   "execution_count": null,
   "metadata": {},
   "outputs": [],
   "source": [
    "%matplotlib inline\n",
    "import matplotlib.pyplot as plt\n",
    "from lightkurve import search_targetpixelfile\n",
    "from lightkurve import TessTargetPixelFile\n",
    "import lightkurve as lk\n",
    "import numpy as np"
   ]
  },
  {
   "cell_type": "code",
   "execution_count": 4,
   "metadata": {},
   "outputs": [
    {
     "name": "stderr",
     "output_type": "stream",
     "text": [
      "Could not resolve KIC 779182711 to a sky position.\n",
      "c:\\Users\\fenil\\AppData\\Local\\Programs\\Python\\Python313\\Lib\\site-packages\\lightkurve\\search.py:419: LightkurveWarning: Cannot download from an empty search result.\n",
      "  warnings.warn(\n"
     ]
    },
    {
     "ename": "AttributeError",
     "evalue": "'NoneType' object has no attribute 'plot'",
     "output_type": "error",
     "traceback": [
      "\u001b[31m---------------------------------------------------------------------------\u001b[39m",
      "\u001b[31mAttributeError\u001b[39m                            Traceback (most recent call last)",
      "\u001b[36mCell\u001b[39m\u001b[36m \u001b[39m\u001b[32mIn[4]\u001b[39m\u001b[32m, line 5\u001b[39m\n\u001b[32m      3\u001b[39m pixelFile = search_targetpixelfile(\u001b[33m'\u001b[39m\u001b[33mKIC 779182711\u001b[39m\u001b[33m'\u001b[39m, author=\u001b[33m\"\u001b[39m\u001b[33mKepler\u001b[39m\u001b[33m\"\u001b[39m, cadence=\u001b[33m\"\u001b[39m\u001b[33mlong\u001b[39m\u001b[33m\"\u001b[39m, quarter=\u001b[32m4\u001b[39m).download()\n\u001b[32m      4\u001b[39m \u001b[38;5;66;03m# Show a single snapshot\u001b[39;00m\n\u001b[32m----> \u001b[39m\u001b[32m5\u001b[39m \u001b[43mpixelFile\u001b[49m\u001b[43m.\u001b[49m\u001b[43mplot\u001b[49m(frame=\u001b[32m42\u001b[39m)\n",
      "\u001b[31mAttributeError\u001b[39m: 'NoneType' object has no attribute 'plot'"
     ]
    }
   ],
   "source": [
    "# Download the pixelfile for a given star\n",
    "# A quarter means a quarter of a year\n",
    "pixelFile = search_targetpixelfile('KIC 779182711', author=\"Kepler\", cadence=\"long\", quarter=4).download()\n",
    "# Show a single snapshot\n",
    "pixelFile.plot(frame=42)\n"
   ]
  },
  {
   "cell_type": "code",
   "execution_count": null,
   "metadata": {},
   "outputs": [],
   "source": [
    "# We'll combine the individual frames into a lightkurve\n",
    "# Aperture masks make the image look better for analysis\n",
    "lc = pixelFile.to_lightcurve(aperture_mask=pixelFile.pipeline_mask)\n",
    "lc.plot()\n",
    "\n",
    "# We may find it easier to spot the pattern if we flatten the curve\n",
    "flat_lc = lc.flatten()\n",
    "flat_lc.plot()\n",
    "\n",
    "# Phase-fold the light curve to verify that the period and transmit time correspond to the transit signal\n",
    "# This puts the frequency spikes on top of each other if we get the period right\n",
    "folded_lc = flat_lc.fold(period=3.5225)\n",
    "folded_lc.plot()\n",
    "\n",
    "# How to discover the correct peroid?\n",
    "# Use a periodogram to show all the repetitive patterns in your graph\n",
    "# Gives you the most likely candidate\n",
    "\n",
    "# Periodograms are an estimate of the spectral density of a signal\n",
    "# (An estimation of what the Fourier Trasform of the data would look like if it were a countinous function https://arxiv.org/pdf/1703.09824.pdf)\n",
    "\n",
    "period = np.linspace(1, 5, 10000)\n",
    "# BLS = Box Least Squares\n",
    "bls = lc.to_periodogram(method=\"bls\", period=period, frequency_factor=500)\n",
    "bls.plot()\n",
    "\n",
    "# Period value corresponding to the highest peak in the periodogram\n",
    "planet_x_period = bls.period_at_max_power\n",
    "\n",
    "planet_x_t0 = bls.transit_time_at_max_power\n",
    "planet_x_dur = bls.duration_at_max_power\n",
    "\n",
    "# Folding can yield a lot of information about the planet\n",
    "# The depth can tell you about the size, etc.\n",
    "ax = lc.fold(period=planet_x_period, epoch_time=planet_x_t0).scatter()\n",
    "ax.set_xlim(-2, 2)\n",
    "\n",
    "print(planet_x_period)\n",
    "print(planet_x_t0)\n",
    "print(planet_x_dur)"
   ]
  },
  {
   "cell_type": "code",
   "execution_count": null,
   "metadata": {},
   "outputs": [],
   "source": [
    "# Use TESS data. That's being updated regularly. Kepler is already well analysed.\n",
    "\n",
    "# Downloading MAST data\n",
    "# Visit the MAST portal:\n",
    "# https://mast.stsci.edu/portal/Mashup/Clients/Mast/Portal.html\n",
    "\n",
    "# Look for nearby stars.\n",
    "# MAST catalogs -> TESS CTL v8.01 -> Advanced Search\n",
    "# Contains 9.5 million records.\n",
    "\n",
    "# Narrow down the search as you like.\n",
    "\n",
    "# Example filters:\n",
    "# T_eff = Temperature between 2000 and 3500 K\n",
    "# These are red dwarfs, which tend to have rapidly orbiting planets.\n",
    "# This fits the 24-day time sampling rate of TESS.\n",
    "\n",
    "# Distance = Between 12 and 24 parsecs\n",
    "# Because we are not able to do the Kessel run in less than 12.\n",
    "\n",
    "# Take the ID, for example: 140206488\n",
    "\n",
    "# Double-check in EXOMAST if a planet has already been found.\n",
    "\n",
    "# Use the ID to search in MAST and find TESS data.\n",
    "# We can access this with `search_targetpixelfile()` or download the data locally."
   ]
  },
  {
   "cell_type": "code",
   "execution_count": null,
   "metadata": {},
   "outputs": [],
   "source": [
    "# Let's download the pixel file for a given star\n",
    "# And save it to a local folder (See download helper below)\n",
    "\n",
    "# Command to search for file - often it is not available, so that's why we download it manually\n",
    "# pixelFile = search_targetpixelfile('KIC 6922244', author=\"TESS\", cadence=\"long\", quarter=4).download()\n",
    "\n",
    "# Load the TESS Target Pixel File (TPF) from the local folder\n",
    "tpf = TessTargetPixelFile(r\"D:\\VS Code\\Science\\Exoplanet Finder\\MAST_2025-03-09T1104\\SDSS\\sdss_apogee_apo25m_100-60_2m00020623+0115360\\aspcapStar-dr17-2M00020623+0115360.fits\")\n",
    "\n",
    "# Show a single snapshot of the observation at frame 42\n",
    "tpf.plot(frame=42)\n",
    "\n",
    "# Plot the light curve using the pipeline mask to select pixels\n",
    "lc = tpf.to_lightcurve(aperture_mask=tpf.pipeline_mask)\n",
    "lc.plot()\n",
    "\n",
    "# Flatten the light curve to remove long-term trends\n",
    "flat_lc = lc.flatten()\n",
    "flat_lc.plot()\n",
    "\n",
    "# Try to find the period of the most prominent orbiting object\n",
    "# Box Least Squares (BLS) method helps to identify periodic transit signals\n",
    "period = np.linspace(1, 5, 10000)\n",
    "bls = lc.to_periodogram(method='bls', period=period, frequency_factor=500)\n",
    "bls.plot()\n",
    "\n",
    "# Get the best period candidate from the periodogram\n",
    "planet_x_period = bls.period_at_max_power\n",
    "planet_x_t0 = bls.transit_time_at_max_power\n",
    "planet_x_dur = bls.duration_at_max_power\n",
    "\n",
    "# Phase-fold the light curve based on the discovered period at max power\n",
    "ax = lc.fold(period=planet_x_period, epoch_time=planet_x_t0).scatter()\n",
    "ax.set_xlim(-3, 3)"
   ]
  }
 ],
 "metadata": {
  "kernelspec": {
   "display_name": "Python 3",
   "language": "python",
   "name": "python3"
  },
  "language_info": {
   "codemirror_mode": {
    "name": "ipython",
    "version": 3
   },
   "file_extension": ".py",
   "mimetype": "text/x-python",
   "name": "python",
   "nbconvert_exporter": "python",
   "pygments_lexer": "ipython3",
   "version": "3.13.2"
  }
 },
 "nbformat": 4,
 "nbformat_minor": 2
}
