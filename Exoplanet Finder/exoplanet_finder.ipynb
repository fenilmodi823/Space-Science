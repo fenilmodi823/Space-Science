{
 "cells": [
  {
   "cell_type": "code",
   "execution_count": null,
   "metadata": {},
   "outputs": [],
   "source": [
    "%matplotlib inline\n",
    "from lightkurve import search_targetpixelfile\n",
    "from lightkurve import TessTargetPixelFile\n",
    "import lightkurve as lk\n",
    "import numpy as np"
   ]
  },
  {
   "cell_type": "code",
   "execution_count": null,
   "metadata": {},
   "outputs": [],
   "source": [
    "# Download the pixelfile for a given star\n",
    "# A quarter means a quarter of the year\n",
    "pixelFile = search_targetpixelfile('KIC 6922244', author=\"kepler\", cadence=\"long\", quarter=4).download()\n",
    "\n",
    "# Show a single snapshot\n",
    "pixelFile.plot(frame=42)"
   ]
  },
  {
   "cell_type": "code",
   "execution_count": null,
   "metadata": {},
   "outputs": [],
   "source": [
    "# We'll combine the individual frames into a lightkurve\n",
    "# Aperture masks make the image look better for analysis\n",
    "lc = pixelFile.to_lightcurve(aperture_mask=pixelFile.pipeline_mask)\n",
    "lc.plot()\n",
    "\n",
    "# We may find it easier to spot the pattern if we flatten the curve\n",
    "flat_lc = lc.flatten()\n",
    "flat_lc.plot()\n",
    "\n",
    "# Phase-fold the light curve to verify that the period and transmit time correspond to the transit signal\n",
    "# This puts the frequency spikes on top of each other if we get the period right\n",
    "folded_lc = flat_lc.fold(period=3.5225)\n",
    "folded_lc.plot()\n",
    "\n",
    "# How to discover the correct peroid?\n",
    "# Use a periodogram to show all the repetitive patterns in your graph\n",
    "# Gives you the most likely candidate\n",
    "\n",
    "# Periodograms are an estimate of the spectral density of a signal\n",
    "# (An estimation of what the Fourier Trasform of the data would look like if it were a countinous function https://arxiv.org/pdf/1703.09824.pdf)\n",
    "\n",
    "period = np.linspace(1, 5, 10000)\n",
    "# BLS = Box Least Squares\n",
    "bls = lc.to_periodogram(method=\"bls\", period=period, frequency_factor=500)\n",
    "bls.plot()\n",
    "\n",
    "# Period value corresponding to the highest peak in the periodogram\n",
    "planet_x_period = bls.period_at_max_power\n",
    "\n",
    "planet_x_t0 = bls.transit_time_at_max_power\n",
    "planet_x_dur = bls.duration_at_max_power\n",
    "\n",
    "# Folding can yield a lot of information about the planet\n",
    "# The depth can tell you about the size, etc.\n",
    "ax = lc.fold(period=planet_x_period, epoch_time=planet_x_t0).scatter()\n",
    "ax.set_xlim(-2, 2)\n",
    "\n",
    "print(planet_x_period)\n",
    "print(planet_x_t0)\n",
    "print(planet_x_dur)"
   ]
  },
  {
   "cell_type": "code",
   "execution_count": null,
   "metadata": {},
   "outputs": [],
   "source": [
    "# Use TESS data. That's being updated regularly. Kepler is already well analysed.\n",
    "\n",
    "# Downloading MAST data\n",
    "# Visit the MAST portal:\n",
    "# https://mast.stsci.edu/portal/Mashup/Clients/Mast/Portal.html\n",
    "\n",
    "# Look for nearby stars.\n",
    "# MAST catalogs -> TESS CTL v8.01 -> Advanced Search\n",
    "# Contains 9.5 million records.\n",
    "\n",
    "# Narrow down the search as you like.\n",
    "\n",
    "# Example filters:\n",
    "# T_eff = Temperature between 2000 and 3500 K\n",
    "# These are red dwarfs, which tend to have rapidly orbiting planets.\n",
    "# This fits the 24-day time sampling rate of TESS.\n",
    "\n",
    "# Distance = Between 12 and 24 parsecs\n",
    "# Because we are not able to do the Kessel run in less than 12.\n",
    "\n",
    "# Take the ID, for example: 140206488\n",
    "\n",
    "# Double-check in EXOMAST if a planet has already been found.\n",
    "\n",
    "# Use the ID to search in MAST and find TESS data.\n",
    "# We can access this with `search_targetpixelfile()` or download the data locally."
   ]
  },
  {
   "cell_type": "code",
   "execution_count": 36,
   "metadata": {},
   "outputs": [
    {
     "ename": "FileNotFoundError",
     "evalue": "[Errno 2] No such file or directory: 'Exoplanet Finder/MAST_2025-03-07T1630/TESS/tess2019357164649-s0020-0000000309661100-0165-s/tess2019357164649-s0020-0000000309661100-0165-s_tp.fits'",
     "output_type": "error",
     "traceback": [
      "\u001b[31m---------------------------------------------------------------------------\u001b[39m",
      "\u001b[31mFileNotFoundError\u001b[39m                         Traceback (most recent call last)",
      "\u001b[36mCell\u001b[39m\u001b[36m \u001b[39m\u001b[32mIn[36]\u001b[39m\u001b[32m, line 8\u001b[39m\n\u001b[32m      1\u001b[39m \u001b[38;5;66;03m# Let's download the pixel file for a given star\u001b[39;00m\n\u001b[32m      2\u001b[39m \u001b[38;5;66;03m# And save it to a local folder (See download helper below)\u001b[39;00m\n\u001b[32m      3\u001b[39m \n\u001b[32m   (...)\u001b[39m\u001b[32m      6\u001b[39m \n\u001b[32m      7\u001b[39m \u001b[38;5;66;03m# Load the TESS Target Pixel File (TPF) from the local folder\u001b[39;00m\n\u001b[32m----> \u001b[39m\u001b[32m8\u001b[39m tpf = \u001b[43mTessTargetPixelFile\u001b[49m\u001b[43m(\u001b[49m\u001b[33;43m\"\u001b[39;49m\u001b[33;43mExoplanet Finder/MAST_2025-03-07T1630/TESS/tess2019357164649-s0020-0000000309661100-0165-s/tess2019357164649-s0020-0000000309661100-0165-s_tp.fits\u001b[39;49m\u001b[33;43m\"\u001b[39;49m\u001b[43m)\u001b[49m\n\u001b[32m     10\u001b[39m \u001b[38;5;66;03m# Show a single snapshot of the observation at frame 42\u001b[39;00m\n\u001b[32m     11\u001b[39m tpf.plot(frame=\u001b[32m42\u001b[39m)\n",
      "\u001b[36mFile \u001b[39m\u001b[32mc:\\Users\\fenil\\AppData\\Local\\Programs\\Python\\Python313\\Lib\\site-packages\\lightkurve\\targetpixelfile.py:2773\u001b[39m, in \u001b[36mTessTargetPixelFile.__init__\u001b[39m\u001b[34m(self, path, quality_bitmask, **kwargs)\u001b[39m\n\u001b[32m   2772\u001b[39m \u001b[38;5;28;01mdef\u001b[39;00m\u001b[38;5;250m \u001b[39m\u001b[34m__init__\u001b[39m(\u001b[38;5;28mself\u001b[39m, path, quality_bitmask=\u001b[33m\"\u001b[39m\u001b[33mdefault\u001b[39m\u001b[33m\"\u001b[39m, **kwargs):\n\u001b[32m-> \u001b[39m\u001b[32m2773\u001b[39m     \u001b[38;5;28;43msuper\u001b[39;49m\u001b[43m(\u001b[49m\u001b[43mTessTargetPixelFile\u001b[49m\u001b[43m,\u001b[49m\u001b[43m \u001b[49m\u001b[38;5;28;43mself\u001b[39;49m\u001b[43m)\u001b[49m\u001b[43m.\u001b[49m\u001b[34;43m__init__\u001b[39;49m\u001b[43m(\u001b[49m\n\u001b[32m   2774\u001b[39m \u001b[43m        \u001b[49m\u001b[43mpath\u001b[49m\u001b[43m,\u001b[49m\u001b[43m \u001b[49m\u001b[43mquality_bitmask\u001b[49m\u001b[43m=\u001b[49m\u001b[43mquality_bitmask\u001b[49m\u001b[43m,\u001b[49m\u001b[43m \u001b[49m\u001b[43m*\u001b[49m\u001b[43m*\u001b[49m\u001b[43mkwargs\u001b[49m\n\u001b[32m   2775\u001b[39m \u001b[43m    \u001b[49m\u001b[43m)\u001b[49m\n\u001b[32m   2776\u001b[39m     \u001b[38;5;28;01mtry\u001b[39;00m:\n\u001b[32m   2777\u001b[39m         \u001b[38;5;28mself\u001b[39m.quality_mask = TessQualityFlags.create_quality_mask(\n\u001b[32m   2778\u001b[39m             quality_array=\u001b[38;5;28mself\u001b[39m.hdu[\u001b[32m1\u001b[39m].data[\u001b[33m\"\u001b[39m\u001b[33mQUALITY\u001b[39m\u001b[33m\"\u001b[39m], bitmask=quality_bitmask\n\u001b[32m   2779\u001b[39m         )\n",
      "\u001b[36mFile \u001b[39m\u001b[32mc:\\Users\\fenil\\AppData\\Local\\Programs\\Python\\Python313\\Lib\\site-packages\\lightkurve\\targetpixelfile.py:109\u001b[39m, in \u001b[36mTargetPixelFile.__init__\u001b[39m\u001b[34m(self, path, quality_bitmask, targetid, **kwargs)\u001b[39m\n\u001b[32m    107\u001b[39m     \u001b[38;5;28mself\u001b[39m.hdu = fits.open(path, use_fsspec=\u001b[38;5;28;01mTrue\u001b[39;00m, fsspec_kwargs={\u001b[33m\"\u001b[39m\u001b[33manon\u001b[39m\u001b[33m\"\u001b[39m: \u001b[38;5;28;01mTrue\u001b[39;00m}, **kwargs)\n\u001b[32m    108\u001b[39m \u001b[38;5;28;01melse\u001b[39;00m:\n\u001b[32m--> \u001b[39m\u001b[32m109\u001b[39m     \u001b[38;5;28mself\u001b[39m.hdu = \u001b[43mfits\u001b[49m\u001b[43m.\u001b[49m\u001b[43mopen\u001b[49m\u001b[43m(\u001b[49m\u001b[38;5;28;43mself\u001b[39;49m\u001b[43m.\u001b[49m\u001b[43mpath\u001b[49m\u001b[43m,\u001b[49m\u001b[43m \u001b[49m\u001b[43m*\u001b[49m\u001b[43m*\u001b[49m\u001b[43mkwargs\u001b[49m\u001b[43m)\u001b[49m\n\u001b[32m    110\u001b[39m \u001b[38;5;28;01mtry\u001b[39;00m:\n\u001b[32m    111\u001b[39m     \u001b[38;5;28mself\u001b[39m.quality_bitmask = quality_bitmask\n",
      "\u001b[36mFile \u001b[39m\u001b[32mc:\\Users\\fenil\\AppData\\Local\\Programs\\Python\\Python313\\Lib\\site-packages\\astropy\\io\\fits\\hdu\\hdulist.py:224\u001b[39m, in \u001b[36mfitsopen\u001b[39m\u001b[34m(name, mode, memmap, save_backup, cache, lazy_load_hdus, ignore_missing_simple, use_fsspec, fsspec_kwargs, decompress_in_memory, **kwargs)\u001b[39m\n\u001b[32m    221\u001b[39m \u001b[38;5;28;01mif\u001b[39;00m \u001b[38;5;129;01mnot\u001b[39;00m name:\n\u001b[32m    222\u001b[39m     \u001b[38;5;28;01mraise\u001b[39;00m \u001b[38;5;167;01mValueError\u001b[39;00m(\u001b[33mf\u001b[39m\u001b[33m\"\u001b[39m\u001b[33mEmpty filename: \u001b[39m\u001b[38;5;132;01m{\u001b[39;00mname\u001b[38;5;132;01m!r}\u001b[39;00m\u001b[33m\"\u001b[39m)\n\u001b[32m--> \u001b[39m\u001b[32m224\u001b[39m \u001b[38;5;28;01mreturn\u001b[39;00m \u001b[43mHDUList\u001b[49m\u001b[43m.\u001b[49m\u001b[43mfromfile\u001b[49m\u001b[43m(\u001b[49m\n\u001b[32m    225\u001b[39m \u001b[43m    \u001b[49m\u001b[43mname\u001b[49m\u001b[43m,\u001b[49m\n\u001b[32m    226\u001b[39m \u001b[43m    \u001b[49m\u001b[43mmode\u001b[49m\u001b[43m,\u001b[49m\n\u001b[32m    227\u001b[39m \u001b[43m    \u001b[49m\u001b[43mmemmap\u001b[49m\u001b[43m,\u001b[49m\n\u001b[32m    228\u001b[39m \u001b[43m    \u001b[49m\u001b[43msave_backup\u001b[49m\u001b[43m,\u001b[49m\n\u001b[32m    229\u001b[39m \u001b[43m    \u001b[49m\u001b[43mcache\u001b[49m\u001b[43m,\u001b[49m\n\u001b[32m    230\u001b[39m \u001b[43m    \u001b[49m\u001b[43mlazy_load_hdus\u001b[49m\u001b[43m,\u001b[49m\n\u001b[32m    231\u001b[39m \u001b[43m    \u001b[49m\u001b[43mignore_missing_simple\u001b[49m\u001b[43m,\u001b[49m\n\u001b[32m    232\u001b[39m \u001b[43m    \u001b[49m\u001b[43muse_fsspec\u001b[49m\u001b[43m=\u001b[49m\u001b[43muse_fsspec\u001b[49m\u001b[43m,\u001b[49m\n\u001b[32m    233\u001b[39m \u001b[43m    \u001b[49m\u001b[43mfsspec_kwargs\u001b[49m\u001b[43m=\u001b[49m\u001b[43mfsspec_kwargs\u001b[49m\u001b[43m,\u001b[49m\n\u001b[32m    234\u001b[39m \u001b[43m    \u001b[49m\u001b[43mdecompress_in_memory\u001b[49m\u001b[43m=\u001b[49m\u001b[43mdecompress_in_memory\u001b[49m\u001b[43m,\u001b[49m\n\u001b[32m    235\u001b[39m \u001b[43m    \u001b[49m\u001b[43m*\u001b[49m\u001b[43m*\u001b[49m\u001b[43mkwargs\u001b[49m\u001b[43m,\u001b[49m\n\u001b[32m    236\u001b[39m \u001b[43m\u001b[49m\u001b[43m)\u001b[49m\n",
      "\u001b[36mFile \u001b[39m\u001b[32mc:\\Users\\fenil\\AppData\\Local\\Programs\\Python\\Python313\\Lib\\site-packages\\astropy\\io\\fits\\hdu\\hdulist.py:488\u001b[39m, in \u001b[36mHDUList.fromfile\u001b[39m\u001b[34m(cls, fileobj, mode, memmap, save_backup, cache, lazy_load_hdus, ignore_missing_simple, **kwargs)\u001b[39m\n\u001b[32m    469\u001b[39m \u001b[38;5;129m@classmethod\u001b[39m\n\u001b[32m    470\u001b[39m \u001b[38;5;28;01mdef\u001b[39;00m\u001b[38;5;250m \u001b[39m\u001b[34mfromfile\u001b[39m(\n\u001b[32m    471\u001b[39m     \u001b[38;5;28mcls\u001b[39m,\n\u001b[32m   (...)\u001b[39m\u001b[32m    479\u001b[39m     **kwargs,\n\u001b[32m    480\u001b[39m ):\n\u001b[32m    481\u001b[39m \u001b[38;5;250m    \u001b[39m\u001b[33;03m\"\"\"\u001b[39;00m\n\u001b[32m    482\u001b[39m \u001b[33;03m    Creates an `HDUList` instance from a file-like object.\u001b[39;00m\n\u001b[32m    483\u001b[39m \n\u001b[32m   (...)\u001b[39m\u001b[32m    486\u001b[39m \u001b[33;03m    documentation for details of the parameters accepted by this method).\u001b[39;00m\n\u001b[32m    487\u001b[39m \u001b[33;03m    \"\"\"\u001b[39;00m\n\u001b[32m--> \u001b[39m\u001b[32m488\u001b[39m     \u001b[38;5;28;01mreturn\u001b[39;00m \u001b[38;5;28;43mcls\u001b[39;49m\u001b[43m.\u001b[49m\u001b[43m_readfrom\u001b[49m\u001b[43m(\u001b[49m\n\u001b[32m    489\u001b[39m \u001b[43m        \u001b[49m\u001b[43mfileobj\u001b[49m\u001b[43m=\u001b[49m\u001b[43mfileobj\u001b[49m\u001b[43m,\u001b[49m\n\u001b[32m    490\u001b[39m \u001b[43m        \u001b[49m\u001b[43mmode\u001b[49m\u001b[43m=\u001b[49m\u001b[43mmode\u001b[49m\u001b[43m,\u001b[49m\n\u001b[32m    491\u001b[39m \u001b[43m        \u001b[49m\u001b[43mmemmap\u001b[49m\u001b[43m=\u001b[49m\u001b[43mmemmap\u001b[49m\u001b[43m,\u001b[49m\n\u001b[32m    492\u001b[39m \u001b[43m        \u001b[49m\u001b[43msave_backup\u001b[49m\u001b[43m=\u001b[49m\u001b[43msave_backup\u001b[49m\u001b[43m,\u001b[49m\n\u001b[32m    493\u001b[39m \u001b[43m        \u001b[49m\u001b[43mcache\u001b[49m\u001b[43m=\u001b[49m\u001b[43mcache\u001b[49m\u001b[43m,\u001b[49m\n\u001b[32m    494\u001b[39m \u001b[43m        \u001b[49m\u001b[43mignore_missing_simple\u001b[49m\u001b[43m=\u001b[49m\u001b[43mignore_missing_simple\u001b[49m\u001b[43m,\u001b[49m\n\u001b[32m    495\u001b[39m \u001b[43m        \u001b[49m\u001b[43mlazy_load_hdus\u001b[49m\u001b[43m=\u001b[49m\u001b[43mlazy_load_hdus\u001b[49m\u001b[43m,\u001b[49m\n\u001b[32m    496\u001b[39m \u001b[43m        \u001b[49m\u001b[43m*\u001b[49m\u001b[43m*\u001b[49m\u001b[43mkwargs\u001b[49m\u001b[43m,\u001b[49m\n\u001b[32m    497\u001b[39m \u001b[43m    \u001b[49m\u001b[43m)\u001b[49m\n",
      "\u001b[36mFile \u001b[39m\u001b[32mc:\\Users\\fenil\\AppData\\Local\\Programs\\Python\\Python313\\Lib\\site-packages\\astropy\\io\\fits\\hdu\\hdulist.py:1170\u001b[39m, in \u001b[36mHDUList._readfrom\u001b[39m\u001b[34m(cls, fileobj, data, mode, memmap, cache, lazy_load_hdus, ignore_missing_simple, use_fsspec, fsspec_kwargs, decompress_in_memory, **kwargs)\u001b[39m\n\u001b[32m   1167\u001b[39m \u001b[38;5;28;01mif\u001b[39;00m fileobj \u001b[38;5;129;01mis\u001b[39;00m \u001b[38;5;129;01mnot\u001b[39;00m \u001b[38;5;28;01mNone\u001b[39;00m:\n\u001b[32m   1168\u001b[39m     \u001b[38;5;28;01mif\u001b[39;00m \u001b[38;5;129;01mnot\u001b[39;00m \u001b[38;5;28misinstance\u001b[39m(fileobj, _File):\n\u001b[32m   1169\u001b[39m         \u001b[38;5;66;03m# instantiate a FITS file object (ffo)\u001b[39;00m\n\u001b[32m-> \u001b[39m\u001b[32m1170\u001b[39m         fileobj = \u001b[43m_File\u001b[49m\u001b[43m(\u001b[49m\n\u001b[32m   1171\u001b[39m \u001b[43m            \u001b[49m\u001b[43mfileobj\u001b[49m\u001b[43m,\u001b[49m\n\u001b[32m   1172\u001b[39m \u001b[43m            \u001b[49m\u001b[43mmode\u001b[49m\u001b[43m=\u001b[49m\u001b[43mmode\u001b[49m\u001b[43m,\u001b[49m\n\u001b[32m   1173\u001b[39m \u001b[43m            \u001b[49m\u001b[43mmemmap\u001b[49m\u001b[43m=\u001b[49m\u001b[43mmemmap\u001b[49m\u001b[43m,\u001b[49m\n\u001b[32m   1174\u001b[39m \u001b[43m            \u001b[49m\u001b[43mcache\u001b[49m\u001b[43m=\u001b[49m\u001b[43mcache\u001b[49m\u001b[43m,\u001b[49m\n\u001b[32m   1175\u001b[39m \u001b[43m            \u001b[49m\u001b[43muse_fsspec\u001b[49m\u001b[43m=\u001b[49m\u001b[43muse_fsspec\u001b[49m\u001b[43m,\u001b[49m\n\u001b[32m   1176\u001b[39m \u001b[43m            \u001b[49m\u001b[43mfsspec_kwargs\u001b[49m\u001b[43m=\u001b[49m\u001b[43mfsspec_kwargs\u001b[49m\u001b[43m,\u001b[49m\n\u001b[32m   1177\u001b[39m \u001b[43m            \u001b[49m\u001b[43mdecompress_in_memory\u001b[49m\u001b[43m=\u001b[49m\u001b[43mdecompress_in_memory\u001b[49m\u001b[43m,\u001b[49m\n\u001b[32m   1178\u001b[39m \u001b[43m        \u001b[49m\u001b[43m)\u001b[49m\n\u001b[32m   1179\u001b[39m     \u001b[38;5;66;03m# The Astropy mode is determined by the _File initializer if the\u001b[39;00m\n\u001b[32m   1180\u001b[39m     \u001b[38;5;66;03m# supplied mode was None\u001b[39;00m\n\u001b[32m   1181\u001b[39m     mode = fileobj.mode\n",
      "\u001b[36mFile \u001b[39m\u001b[32mc:\\Users\\fenil\\AppData\\Local\\Programs\\Python\\Python313\\Lib\\site-packages\\astropy\\io\\fits\\file.py:218\u001b[39m, in \u001b[36m_File.__init__\u001b[39m\u001b[34m(self, fileobj, mode, memmap, overwrite, cache, use_fsspec, fsspec_kwargs, decompress_in_memory)\u001b[39m\n\u001b[32m    216\u001b[39m     \u001b[38;5;28mself\u001b[39m._open_fileobj(fileobj, mode, overwrite)\n\u001b[32m    217\u001b[39m \u001b[38;5;28;01melif\u001b[39;00m \u001b[38;5;28misinstance\u001b[39m(fileobj, (\u001b[38;5;28mstr\u001b[39m, \u001b[38;5;28mbytes\u001b[39m)):\n\u001b[32m--> \u001b[39m\u001b[32m218\u001b[39m     \u001b[38;5;28;43mself\u001b[39;49m\u001b[43m.\u001b[49m\u001b[43m_open_filename\u001b[49m\u001b[43m(\u001b[49m\u001b[43mfileobj\u001b[49m\u001b[43m,\u001b[49m\u001b[43m \u001b[49m\u001b[43mmode\u001b[49m\u001b[43m,\u001b[49m\u001b[43m \u001b[49m\u001b[43moverwrite\u001b[49m\u001b[43m)\u001b[49m\n\u001b[32m    219\u001b[39m \u001b[38;5;28;01melse\u001b[39;00m:\n\u001b[32m    220\u001b[39m     \u001b[38;5;28mself\u001b[39m._open_filelike(fileobj, mode, overwrite)\n",
      "\u001b[36mFile \u001b[39m\u001b[32mc:\\Users\\fenil\\AppData\\Local\\Programs\\Python\\Python313\\Lib\\site-packages\\astropy\\io\\fits\\file.py:651\u001b[39m, in \u001b[36m_File._open_filename\u001b[39m\u001b[34m(self, filename, mode, overwrite)\u001b[39m\n\u001b[32m    648\u001b[39m ext = os.path.splitext(\u001b[38;5;28mself\u001b[39m.name)[\u001b[32m1\u001b[39m]\n\u001b[32m    650\u001b[39m \u001b[38;5;28;01mif\u001b[39;00m \u001b[38;5;129;01mnot\u001b[39;00m \u001b[38;5;28mself\u001b[39m._try_read_compressed(\u001b[38;5;28mself\u001b[39m.name, magic, mode, ext=ext):\n\u001b[32m--> \u001b[39m\u001b[32m651\u001b[39m     \u001b[38;5;28mself\u001b[39m._file = \u001b[38;5;28;43mopen\u001b[39;49m\u001b[43m(\u001b[49m\u001b[38;5;28;43mself\u001b[39;49m\u001b[43m.\u001b[49m\u001b[43mname\u001b[49m\u001b[43m,\u001b[49m\u001b[43m \u001b[49m\u001b[43mIO_FITS_MODES\u001b[49m\u001b[43m[\u001b[49m\u001b[43mmode\u001b[49m\u001b[43m]\u001b[49m\u001b[43m)\u001b[49m\n\u001b[32m    652\u001b[39m     \u001b[38;5;28mself\u001b[39m.close_on_error = \u001b[38;5;28;01mTrue\u001b[39;00m\n\u001b[32m    654\u001b[39m \u001b[38;5;66;03m# Make certain we're back at the beginning of the file\u001b[39;00m\n\u001b[32m    655\u001b[39m \u001b[38;5;66;03m# BZ2File does not support seek when the file is open for writing, but\u001b[39;00m\n\u001b[32m    656\u001b[39m \u001b[38;5;66;03m# when opening a file for write, bz2.BZ2File always truncates anyway.\u001b[39;00m\n",
      "\u001b[31mFileNotFoundError\u001b[39m: [Errno 2] No such file or directory: 'Exoplanet Finder/MAST_2025-03-07T1630/TESS/tess2019357164649-s0020-0000000309661100-0165-s/tess2019357164649-s0020-0000000309661100-0165-s_tp.fits'"
     ]
    }
   ],
   "source": [
    "# Let's download the pixel file for a given star\n",
    "# And save it to a local folder (See download helper below)\n",
    "\n",
    "# Command to search for file - often it is not available, so that's why we download it manually\n",
    "# pixelFile = search_targetpixelfile('KIC 6922244', author=\"TESS\", cadence=\"long\", quarter=4).download()\n",
    "\n",
    "# Load the TESS Target Pixel File (TPF) from the local folder\n",
    "tpf = TessTargetPixelFile(\"Exoplanet Finder/MAST_2025-03-07T1630/TESS/tess2019357164649-s0020-0000000309661100-0165-s/tess2019357164649-s0020-0000000309661100-0165-s_tp.fits\")\n",
    "\n",
    "# Show a single snapshot of the observation at frame 42\n",
    "tpf.plot(frame=42)\n",
    "\n",
    "# Plot the light curve using the pipeline mask to select pixels\n",
    "lc = tpf.to_lightcurve(aperture_mask=tpf.pipeline_mask)\n",
    "lc.plot()\n",
    "\n",
    "# Flatten the light curve to remove long-term trends\n",
    "flat_lc = lc.flatten()\n",
    "flat_lc.plot()\n",
    "\n",
    "# Try to find the period of the most prominent orbiting object\n",
    "# Box Least Squares (BLS) method helps to identify periodic transit signals\n",
    "period = np.linspace(1, 5, 10000)\n",
    "bls = lc.to_periodogram(method='bls', period=period, frequency_factor=500)\n",
    "bls.plot()\n",
    "\n",
    "# Get the best period candidate from the periodogram\n",
    "planet_x_period = bls.period_at_max_power\n",
    "planet_x_t0 = bls.transit_time_at_max_power\n",
    "planet_x_dur = bls.duration_at_max_power\n",
    "\n",
    "# Phase-fold the light curve based on the discovered period at max power\n",
    "ax = lc.fold(period=planet_x_period, epoch_time=planet_x_t0).scatter()\n",
    "ax.set_xlim(-3, 3)"
   ]
  }
 ],
 "metadata": {
  "kernelspec": {
   "display_name": "Python 3",
   "language": "python",
   "name": "python3"
  },
  "language_info": {
   "codemirror_mode": {
    "name": "ipython",
    "version": 3
   },
   "file_extension": ".py",
   "mimetype": "text/x-python",
   "name": "python",
   "nbconvert_exporter": "python",
   "pygments_lexer": "ipython3",
   "version": "3.13.2"
  }
 },
 "nbformat": 4,
 "nbformat_minor": 2
}
